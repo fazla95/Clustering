{
 "cells": [
  {
   "cell_type": "markdown",
   "id": "46170126",
   "metadata": {},
   "source": [
    "# Clustering"
   ]
  },
  {
   "cell_type": "code",
   "execution_count": 1,
   "id": "3074b91b",
   "metadata": {},
   "outputs": [],
   "source": [
    "import openml\n",
    "import pandas as pd\n",
    "import numpy as np\n",
    "from sklearn.cluster import KMeans, AgglomerativeClustering, DBSCAN, OPTICS\n",
    "from sklearn_som.som import SOM\n",
    "from sklearn.metrics import f1_score, silhouette_score\n",
    "from sklearn.metrics.cluster import adjusted_rand_score\n",
    "from sklearn.preprocessing import LabelEncoder\n",
    "from joblib import Parallel, delayed\n",
    "import time"
   ]
  },
  {
   "cell_type": "markdown",
   "id": "5f2c3bf2",
   "metadata": {},
   "source": [
    "### Iris Dataset"
   ]
  },
  {
   "cell_type": "code",
   "execution_count": 2,
   "id": "572e3a47",
   "metadata": {},
   "outputs": [],
   "source": [
    "iris = openml.datasets.get_dataset(61)"
   ]
  },
  {
   "cell_type": "code",
   "execution_count": 3,
   "id": "853984d6",
   "metadata": {},
   "outputs": [],
   "source": [
    "iris_x, iris_y, iris_cat_ind, iris_att_names = iris.get_data(\n",
    "    target=iris.default_target_attribute, dataset_format=\"dataframe\")"
   ]
  },
  {
   "cell_type": "code",
   "execution_count": 4,
   "id": "34e3c21a",
   "metadata": {},
   "outputs": [
    {
     "data": {
      "text/plain": [
       "(['sepallength', 'sepalwidth', 'petallength', 'petalwidth'],\n",
       " [False, False, False, False])"
      ]
     },
     "execution_count": 4,
     "metadata": {},
     "output_type": "execute_result"
    }
   ],
   "source": [
    "iris_att_names, iris_cat_ind"
   ]
  },
  {
   "cell_type": "code",
   "execution_count": 5,
   "id": "a65f9696",
   "metadata": {},
   "outputs": [
    {
     "data": {
      "text/plain": [
       "CategoricalDtype(categories=['Iris-setosa', 'Iris-versicolor', 'Iris-virginica'], ordered=True)"
      ]
     },
     "execution_count": 5,
     "metadata": {},
     "output_type": "execute_result"
    }
   ],
   "source": [
    "iris_y.dtype"
   ]
  },
  {
   "cell_type": "code",
   "execution_count": 6,
   "id": "a7ade075",
   "metadata": {},
   "outputs": [
    {
     "data": {
      "text/plain": [
       "(sepallength    0\n",
       " sepalwidth     0\n",
       " petallength    0\n",
       " petalwidth     0\n",
       " dtype: int64,\n",
       " 0)"
      ]
     },
     "execution_count": 6,
     "metadata": {},
     "output_type": "execute_result"
    }
   ],
   "source": [
    "iris_x.isnull().sum(), iris_y.isnull().sum()"
   ]
  },
  {
   "cell_type": "code",
   "execution_count": 7,
   "id": "6a9e9d0c",
   "metadata": {},
   "outputs": [],
   "source": [
    "iris_x_nor = (iris_x-iris_x.min())/(iris_x.max()-iris_x.min())"
   ]
  },
  {
   "cell_type": "code",
   "execution_count": 8,
   "id": "75333263",
   "metadata": {},
   "outputs": [],
   "source": [
    "iris_y_num = LabelEncoder().fit_transform(iris_y)"
   ]
  },
  {
   "cell_type": "markdown",
   "id": "14874636",
   "metadata": {},
   "source": [
    "### Wine Dataset"
   ]
  },
  {
   "cell_type": "code",
   "execution_count": 9,
   "id": "2e533756",
   "metadata": {},
   "outputs": [],
   "source": [
    "wine = openml.datasets.get_dataset(187)"
   ]
  },
  {
   "cell_type": "code",
   "execution_count": 10,
   "id": "775dafb5",
   "metadata": {},
   "outputs": [],
   "source": [
    "wine_x, wine_y, wine_cat_ind, wine_att_names = wine.get_data(\n",
    "    target=wine.default_target_attribute, dataset_format=\"dataframe\")"
   ]
  },
  {
   "cell_type": "code",
   "execution_count": 11,
   "id": "46600163",
   "metadata": {},
   "outputs": [
    {
     "data": {
      "text/plain": [
       "(['Alcohol',\n",
       "  'Malic_acid',\n",
       "  'Ash',\n",
       "  'Alcalinity_of_ash',\n",
       "  'Magnesium',\n",
       "  'Total_phenols',\n",
       "  'Flavanoids',\n",
       "  'Nonflavanoid_phenols',\n",
       "  'Proanthocyanins',\n",
       "  'Color_intensity',\n",
       "  'Hue',\n",
       "  'OD280%2FOD315_of_diluted_wines',\n",
       "  'Proline'],\n",
       " [False,\n",
       "  False,\n",
       "  False,\n",
       "  False,\n",
       "  False,\n",
       "  False,\n",
       "  False,\n",
       "  False,\n",
       "  False,\n",
       "  False,\n",
       "  False,\n",
       "  False,\n",
       "  False])"
      ]
     },
     "execution_count": 11,
     "metadata": {},
     "output_type": "execute_result"
    }
   ],
   "source": [
    "wine_att_names, wine_cat_ind"
   ]
  },
  {
   "cell_type": "code",
   "execution_count": 12,
   "id": "9ccf5c44",
   "metadata": {},
   "outputs": [
    {
     "data": {
      "text/plain": [
       "CategoricalDtype(categories=['1', '2', '3'], ordered=True)"
      ]
     },
     "execution_count": 12,
     "metadata": {},
     "output_type": "execute_result"
    }
   ],
   "source": [
    "wine_y.dtype"
   ]
  },
  {
   "cell_type": "code",
   "execution_count": 13,
   "id": "c57cda7b",
   "metadata": {},
   "outputs": [
    {
     "data": {
      "text/plain": [
       "(Alcohol                           0\n",
       " Malic_acid                        0\n",
       " Ash                               0\n",
       " Alcalinity_of_ash                 0\n",
       " Magnesium                         0\n",
       " Total_phenols                     0\n",
       " Flavanoids                        0\n",
       " Nonflavanoid_phenols              0\n",
       " Proanthocyanins                   0\n",
       " Color_intensity                   0\n",
       " Hue                               0\n",
       " OD280%2FOD315_of_diluted_wines    0\n",
       " Proline                           0\n",
       " dtype: int64,\n",
       " 0)"
      ]
     },
     "execution_count": 13,
     "metadata": {},
     "output_type": "execute_result"
    }
   ],
   "source": [
    "wine_x.isnull().sum(), wine_y.isnull().sum()"
   ]
  },
  {
   "cell_type": "code",
   "execution_count": 14,
   "id": "bcbcac72",
   "metadata": {},
   "outputs": [],
   "source": [
    "wine_x_nor = (wine_x-wine_x.min())/(wine_x.max()-wine_x.min())\n",
    "wine_y_num = LabelEncoder().fit_transform(wine_y)"
   ]
  },
  {
   "cell_type": "markdown",
   "id": "bdb18280",
   "metadata": {},
   "source": [
    "### Glass Dataset"
   ]
  },
  {
   "cell_type": "code",
   "execution_count": 15,
   "id": "c98c258d",
   "metadata": {},
   "outputs": [
    {
     "name": "stdout",
     "output_type": "stream",
     "text": [
      "['RI', 'Na', 'Mg', 'Al', 'Si', 'K', 'Ca', 'Ba', 'Fe'] [False, False, False, False, False, False, False, False, False]\n",
      "category\n",
      "RI    0\n",
      "Na    0\n",
      "Mg    0\n",
      "Al    0\n",
      "Si    0\n",
      "K     0\n",
      "Ca    0\n",
      "Ba    0\n",
      "Fe    0\n",
      "dtype: int64 0\n"
     ]
    }
   ],
   "source": [
    "glass = openml.datasets.get_dataset(41)\n",
    "glass_x, glass_y, glass_cat_ind, glass_att_names = glass.get_data(\n",
    "    target = glass.default_target_attribute, dataset_format=\"dataframe\")\n",
    "print(glass_att_names, glass_cat_ind)\n",
    "print(glass_y.dtype)\n",
    "print(glass_x.isnull().sum(), glass_y.isnull().sum())"
   ]
  },
  {
   "cell_type": "code",
   "execution_count": 16,
   "id": "e665b4a5",
   "metadata": {},
   "outputs": [],
   "source": [
    "glass_x_nor = (glass_x-glass_x.min())/(glass_x.max()-glass_x.min())\n",
    "glass_y_num = LabelEncoder().fit_transform(glass_y)"
   ]
  },
  {
   "cell_type": "markdown",
   "id": "ce9aa0ce",
   "metadata": {},
   "source": [
    "### Haberman Dataset"
   ]
  },
  {
   "cell_type": "code",
   "execution_count": 17,
   "id": "7ea52acc",
   "metadata": {},
   "outputs": [
    {
     "name": "stdout",
     "output_type": "stream",
     "text": [
      "['Age_of_patient_at_time_of_operation', 'Patients_year_of_operation', 'Number_of_positive_axillary_nodes_detected'] [False, True, False]\n",
      "category\n",
      "Age_of_patient_at_time_of_operation           0\n",
      "Patients_year_of_operation                    0\n",
      "Number_of_positive_axillary_nodes_detected    0\n",
      "dtype: int64 0\n"
     ]
    }
   ],
   "source": [
    "hman = openml.datasets.get_dataset(43)\n",
    "hman_x, hman_y, hman_cat_ind, hman_att_names = hman.get_data(\n",
    "    target = hman.default_target_attribute, dataset_format=\"dataframe\")\n",
    "print(hman_att_names, hman_cat_ind)\n",
    "print(hman_y.dtype)\n",
    "print(hman_x.isnull().sum(), hman_y.isnull().sum())"
   ]
  },
  {
   "cell_type": "code",
   "execution_count": 18,
   "id": "3002fbfc",
   "metadata": {},
   "outputs": [],
   "source": [
    "col = ['Age_of_patient_at_time_of_operation', 'Number_of_positive_axillary_nodes_detected']\n",
    "hman_x_nor = (hman_x[col]-hman_x[col].min())/(hman_x[col].max()-hman_x[col].min())"
   ]
  },
  {
   "cell_type": "code",
   "execution_count": 19,
   "id": "689143c6",
   "metadata": {},
   "outputs": [],
   "source": [
    "hman_x_nor['Patients_year_of_operation'] = LabelEncoder().fit_transform(hman_x['Patients_year_of_operation'])"
   ]
  },
  {
   "cell_type": "code",
   "execution_count": 20,
   "id": "7e4c62e0",
   "metadata": {},
   "outputs": [],
   "source": [
    "hman_y_num = LabelEncoder().fit_transform(hman_y)"
   ]
  },
  {
   "cell_type": "markdown",
   "id": "35ba48c0",
   "metadata": {},
   "source": [
    "### Libras_move Dataset"
   ]
  },
  {
   "cell_type": "code",
   "execution_count": 21,
   "id": "10415797",
   "metadata": {},
   "outputs": [
    {
     "name": "stdout",
     "output_type": "stream",
     "text": [
      "['xcoord1', 'ycoord1', 'xcoord2', 'ycoord2', 'xcoord3', 'ycoord3', 'xcoord4', 'ycoord4', 'xcoord5', 'ycoord5', 'xcoord6', 'ycoord6', 'xcoord7', 'ycoord7', 'xcoord8', 'ycoord8', 'xcoord9', 'ycoord9', 'xcoord10', 'ycoord10', 'xcoord11', 'ycoord11', 'xcoord12', 'ycoord12', 'xcoord13', 'ycoord13', 'xcoord14', 'ycoord14', 'xcoord15', 'ycoord15', 'xcoord16', 'ycoord16', 'xcoord17', 'ycoord17', 'xcoord18', 'ycoord18', 'xcoord19', 'ycoord19', 'xcoord20', 'ycoord20', 'xcoord21', 'ycoord21', 'xcoord22', 'ycoord22', 'xcoord23', 'ycoord23', 'xcoord24', 'ycoord24', 'xcoord25', 'ycoord25', 'xcoord26', 'ycoord26', 'xcoord27', 'ycoord27', 'xcoord28', 'ycoord28', 'xcoord29', 'ycoord29', 'xcoord30', 'ycoord30', 'xcoord31', 'ycoord31', 'xcoord32', 'ycoord32', 'xcoord33', 'ycoord33', 'xcoord34', 'ycoord34', 'xcoord35', 'ycoord35', 'xcoord36', 'ycoord36', 'xcoord37', 'ycoord37', 'xcoord38', 'ycoord38', 'xcoord39', 'ycoord39', 'xcoord40', 'ycoord40', 'xcoord41', 'ycoord41', 'xcoord42', 'ycoord42', 'xcoord43', 'ycoord43', 'xcoord44', 'ycoord44', 'xcoord45', 'ycoord45'] [False, False, False, False, False, False, False, False, False, False, False, False, False, False, False, False, False, False, False, False, False, False, False, False, False, False, False, False, False, False, False, False, False, False, False, False, False, False, False, False, False, False, False, False, False, False, False, False, False, False, False, False, False, False, False, False, False, False, False, False, False, False, False, False, False, False, False, False, False, False, False, False, False, False, False, False, False, False, False, False, False, False, False, False, False, False, False, False, False, False]\n",
      "uint8\n",
      "0\n",
      "0\n"
     ]
    }
   ],
   "source": [
    "lm = openml.datasets.get_dataset(299)\n",
    "lm_x, lm_y, lm_cat_ind, lm_att_names = lm.get_data(\n",
    "    target = lm.default_target_attribute, dataset_format=\"dataframe\")\n",
    "print(lm_att_names, lm_cat_ind)\n",
    "print(lm_y.dtype)\n",
    "print(lm_x.isnull().sum().sum())\n",
    "print(lm_y.isnull().sum())"
   ]
  },
  {
   "cell_type": "code",
   "execution_count": 22,
   "id": "addcfb7d",
   "metadata": {},
   "outputs": [],
   "source": [
    "lm_x_nor = (lm_x-lm_x.min())/(lm_x.max()-lm_x.min())\n",
    "lm_y_num = LabelEncoder().fit_transform(lm_y)"
   ]
  },
  {
   "cell_type": "markdown",
   "id": "dd3ef708",
   "metadata": {},
   "source": [
    "### Satellite_image Dataset"
   ]
  },
  {
   "cell_type": "code",
   "execution_count": 23,
   "id": "40f754db",
   "metadata": {},
   "outputs": [
    {
     "name": "stdout",
     "output_type": "stream",
     "text": [
      "['attr1', 'attr2', 'attr3', 'attr4', 'attr5', 'attr6', 'attr7', 'attr8', 'attr9', 'attr10', 'attr11', 'attr12', 'attr13', 'attr14', 'attr15', 'attr16', 'attr17', 'attr18', 'attr19', 'attr20', 'attr21', 'attr22', 'attr23', 'attr24', 'attr25', 'attr26', 'attr27', 'attr28', 'attr29', 'attr30', 'attr31', 'attr32', 'attr33', 'attr34', 'attr35', 'attr36'] [False, False, False, False, False, False, False, False, False, False, False, False, False, False, False, False, False, False, False, False, False, False, False, False, False, False, False, False, False, False, False, False, False, False, False, False]\n",
      "uint8\n",
      "attr1     0\n",
      "attr2     0\n",
      "attr3     0\n",
      "attr4     0\n",
      "attr5     0\n",
      "attr6     0\n",
      "attr7     0\n",
      "attr8     0\n",
      "attr9     0\n",
      "attr10    0\n",
      "attr11    0\n",
      "attr12    0\n",
      "attr13    0\n",
      "attr14    0\n",
      "attr15    0\n",
      "attr16    0\n",
      "attr17    0\n",
      "attr18    0\n",
      "attr19    0\n",
      "attr20    0\n",
      "attr21    0\n",
      "attr22    0\n",
      "attr23    0\n",
      "attr24    0\n",
      "attr25    0\n",
      "attr26    0\n",
      "attr27    0\n",
      "attr28    0\n",
      "attr29    0\n",
      "attr30    0\n",
      "attr31    0\n",
      "attr32    0\n",
      "attr33    0\n",
      "attr34    0\n",
      "attr35    0\n",
      "attr36    0\n",
      "dtype: int64\n",
      "0\n"
     ]
    }
   ],
   "source": [
    "simg = openml.datasets.get_dataset(294)\n",
    "simg_x, simg_y, simg_cat_ind, simg_att_names = simg.get_data(\n",
    "    target = simg.default_target_attribute, dataset_format=\"dataframe\")\n",
    "print(simg_att_names, simg_cat_ind)\n",
    "print(simg_y.dtype)\n",
    "print(simg_x.isnull().sum())\n",
    "print(simg_y.isnull().sum())"
   ]
  },
  {
   "cell_type": "code",
   "execution_count": 24,
   "id": "1ee359a6",
   "metadata": {},
   "outputs": [],
   "source": [
    "simg_x_nor = (simg_x-simg_x.min())/(simg_x.max()-simg_x.min())\n",
    "simg_y_num = LabelEncoder().fit_transform(simg_y)"
   ]
  },
  {
   "cell_type": "markdown",
   "id": "876695f4",
   "metadata": {},
   "source": [
    "### Isolet Dataset"
   ]
  },
  {
   "cell_type": "code",
   "execution_count": 25,
   "id": "73e99649",
   "metadata": {},
   "outputs": [
    {
     "name": "stdout",
     "output_type": "stream",
     "text": [
      "['f1', 'f2', 'f3', 'f4', 'f5', 'f6', 'f7', 'f8', 'f9', 'f10', 'f11', 'f12', 'f13', 'f14', 'f15', 'f16', 'f17', 'f18', 'f19', 'f20', 'f21', 'f22', 'f23', 'f24', 'f25', 'f26', 'f27', 'f28', 'f29', 'f30', 'f31', 'f32', 'f33', 'f34', 'f35', 'f36', 'f37', 'f38', 'f39', 'f40', 'f41', 'f42', 'f43', 'f44', 'f45', 'f46', 'f47', 'f48', 'f49', 'f50', 'f51', 'f52', 'f53', 'f54', 'f55', 'f56', 'f57', 'f58', 'f59', 'f60', 'f61', 'f62', 'f63', 'f64', 'f65', 'f66', 'f67', 'f68', 'f69', 'f70', 'f71', 'f72', 'f73', 'f74', 'f75', 'f76', 'f77', 'f78', 'f79', 'f80', 'f81', 'f82', 'f83', 'f84', 'f85', 'f86', 'f87', 'f88', 'f89', 'f90', 'f91', 'f92', 'f93', 'f94', 'f95', 'f96', 'f97', 'f98', 'f99', 'f100', 'f101', 'f102', 'f103', 'f104', 'f105', 'f106', 'f107', 'f108', 'f109', 'f110', 'f111', 'f112', 'f113', 'f114', 'f115', 'f116', 'f117', 'f118', 'f119', 'f120', 'f121', 'f122', 'f123', 'f124', 'f125', 'f126', 'f127', 'f128', 'f129', 'f130', 'f131', 'f132', 'f133', 'f134', 'f135', 'f136', 'f137', 'f138', 'f139', 'f140', 'f141', 'f142', 'f143', 'f144', 'f145', 'f146', 'f147', 'f148', 'f149', 'f150', 'f151', 'f152', 'f153', 'f154', 'f155', 'f156', 'f157', 'f158', 'f159', 'f160', 'f161', 'f162', 'f163', 'f164', 'f165', 'f166', 'f167', 'f168', 'f169', 'f170', 'f171', 'f172', 'f173', 'f174', 'f175', 'f176', 'f177', 'f178', 'f179', 'f180', 'f181', 'f182', 'f183', 'f184', 'f185', 'f186', 'f187', 'f188', 'f189', 'f190', 'f191', 'f192', 'f193', 'f194', 'f195', 'f196', 'f197', 'f198', 'f199', 'f200', 'f201', 'f202', 'f203', 'f204', 'f205', 'f206', 'f207', 'f208', 'f209', 'f210', 'f211', 'f212', 'f213', 'f214', 'f215', 'f216', 'f217', 'f218', 'f219', 'f220', 'f221', 'f222', 'f223', 'f224', 'f225', 'f226', 'f227', 'f228', 'f229', 'f230', 'f231', 'f232', 'f233', 'f234', 'f235', 'f236', 'f237', 'f238', 'f239', 'f240', 'f241', 'f242', 'f243', 'f244', 'f245', 'f246', 'f247', 'f248', 'f249', 'f250', 'f251', 'f252', 'f253', 'f254', 'f255', 'f256', 'f257', 'f258', 'f259', 'f260', 'f261', 'f262', 'f263', 'f264', 'f265', 'f266', 'f267', 'f268', 'f269', 'f270', 'f271', 'f272', 'f273', 'f274', 'f275', 'f276', 'f277', 'f278', 'f279', 'f280', 'f281', 'f282', 'f283', 'f284', 'f285', 'f286', 'f287', 'f288', 'f289', 'f290', 'f291', 'f292', 'f293', 'f294', 'f295', 'f296', 'f297', 'f298', 'f299', 'f300', 'f301', 'f302', 'f303', 'f304', 'f305', 'f306', 'f307', 'f308', 'f309', 'f310', 'f311', 'f312', 'f313', 'f314', 'f315', 'f316', 'f317', 'f318', 'f319', 'f320', 'f321', 'f322', 'f323', 'f324', 'f325', 'f326', 'f327', 'f328', 'f329', 'f330', 'f331', 'f332', 'f333', 'f334', 'f335', 'f336', 'f337', 'f338', 'f339', 'f340', 'f341', 'f342', 'f343', 'f344', 'f345', 'f346', 'f347', 'f348', 'f349', 'f350', 'f351', 'f352', 'f353', 'f354', 'f355', 'f356', 'f357', 'f358', 'f359', 'f360', 'f361', 'f362', 'f363', 'f364', 'f365', 'f366', 'f367', 'f368', 'f369', 'f370', 'f371', 'f372', 'f373', 'f374', 'f375', 'f376', 'f377', 'f378', 'f379', 'f380', 'f381', 'f382', 'f383', 'f384', 'f385', 'f386', 'f387', 'f388', 'f389', 'f390', 'f391', 'f392', 'f393', 'f394', 'f395', 'f396', 'f397', 'f398', 'f399', 'f400', 'f401', 'f402', 'f403', 'f404', 'f405', 'f406', 'f407', 'f408', 'f409', 'f410', 'f411', 'f412', 'f413', 'f414', 'f415', 'f416', 'f417', 'f418', 'f419', 'f420', 'f421', 'f422', 'f423', 'f424', 'f425', 'f426', 'f427', 'f428', 'f429', 'f430', 'f431', 'f432', 'f433', 'f434', 'f435', 'f436', 'f437', 'f438', 'f439', 'f440', 'f441', 'f442', 'f443', 'f444', 'f445', 'f446', 'f447', 'f448', 'f449', 'f450', 'f451', 'f452', 'f453', 'f454', 'f455', 'f456', 'f457', 'f458', 'f459', 'f460', 'f461', 'f462', 'f463', 'f464', 'f465', 'f466', 'f467', 'f468', 'f469', 'f470', 'f471', 'f472', 'f473', 'f474', 'f475', 'f476', 'f477', 'f478', 'f479', 'f480', 'f481', 'f482', 'f483', 'f484', 'f485', 'f486', 'f487', 'f488', 'f489', 'f490', 'f491', 'f492', 'f493', 'f494', 'f495', 'f496', 'f497', 'f498', 'f499', 'f500', 'f501', 'f502', 'f503', 'f504', 'f505', 'f506', 'f507', 'f508', 'f509', 'f510', 'f511', 'f512', 'f513', 'f514', 'f515', 'f516', 'f517', 'f518', 'f519', 'f520', 'f521', 'f522', 'f523', 'f524', 'f525', 'f526', 'f527', 'f528', 'f529', 'f530', 'f531', 'f532', 'f533', 'f534', 'f535', 'f536', 'f537', 'f538', 'f539', 'f540', 'f541', 'f542', 'f543', 'f544', 'f545', 'f546', 'f547', 'f548', 'f549', 'f550', 'f551', 'f552', 'f553', 'f554', 'f555', 'f556', 'f557', 'f558', 'f559', 'f560', 'f561', 'f562', 'f563', 'f564', 'f565', 'f566', 'f567', 'f568', 'f569', 'f570', 'f571', 'f572', 'f573', 'f574', 'f575', 'f576', 'f577', 'f578', 'f579', 'f580', 'f581', 'f582', 'f583', 'f584', 'f585', 'f586', 'f587', 'f588', 'f589', 'f590', 'f591', 'f592', 'f593', 'f594', 'f595', 'f596', 'f597', 'f598', 'f599', 'f600', 'f601', 'f602', 'f603', 'f604', 'f605', 'f606', 'f607', 'f608', 'f609', 'f610', 'f611', 'f612', 'f613', 'f614', 'f615', 'f616', 'f617'] [False, False, False, False, False, False, False, False, False, False, False, False, False, False, False, False, False, False, False, False, False, False, False, False, False, False, False, False, False, False, False, False, False, False, False, False, False, False, False, False, False, False, False, False, False, False, False, False, False, False, False, False, False, False, False, False, False, False, False, False, False, False, False, False, False, False, False, False, False, False, False, False, False, False, False, False, False, False, False, False, False, False, False, False, False, False, False, False, False, False, False, False, False, False, False, False, False, False, False, False, False, False, False, False, False, False, False, False, False, False, False, False, False, False, False, False, False, False, False, False, False, False, False, False, False, False, False, False, False, False, False, False, False, False, False, False, False, False, False, False, False, False, False, False, False, False, False, False, False, False, False, False, False, False, False, False, False, False, False, False, False, False, False, False, False, False, False, False, False, False, False, False, False, False, False, False, False, False, False, False, False, False, False, False, False, False, False, False, False, False, False, False, False, False, False, False, False, False, False, False, False, False, False, False, False, False, False, False, False, False, False, False, False, False, False, False, False, False, False, False, False, False, False, False, False, False, False, False, False, False, False, False, False, False, False, False, False, False, False, False, False, False, False, False, False, False, False, False, False, False, False, False, False, False, False, False, False, False, False, False, False, False, False, False, False, False, False, False, False, False, False, False, False, False, False, False, False, False, False, False, False, False, False, False, False, False, False, False, False, False, False, False, False, False, False, False, False, False, False, False, False, False, False, False, False, False, False, False, False, False, False, False, False, False, False, False, False, False, False, False, False, False, False, False, False, False, False, False, False, False, False, False, False, False, False, False, False, False, False, False, False, False, False, False, False, False, False, False, False, False, False, False, False, False, False, False, False, False, False, False, False, False, False, False, False, False, False, False, False, False, False, False, False, False, False, False, False, False, False, False, False, False, False, False, False, False, False, False, False, False, False, False, False, False, False, False, False, False, False, False, False, False, False, False, False, False, False, False, False, False, False, False, False, False, False, False, False, False, False, False, False, False, False, False, False, False, False, False, False, False, False, False, False, False, False, False, False, False, False, False, False, False, False, False, False, False, False, False, False, False, False, False, False, False, False, False, False, False, False, False, False, False, False, False, False, False, False, False, False, False, False, False, False, False, False, False, False, False, False, False, False, False, False, False, False, False, False, False, False, False, False, False, False, False, False, False, False, False, False, False, False, False, False, False, False, False, False, False, False, False, False, False, False, False, False, False, False, False, False, False, False, False, False, False, False, False, False, False, False, False, False, False, False, False, False, False, False, False, False, False, False, False, False, False, False, False, False, False, False, False, False, False, False, False, False, False, False, False, False, False, False, False, False, False, False, False, False, False, False, False, False, False, False, False, False, False, False, False, False, False, False, False, False, False, False, False, False, False, False, False, False, False, False, False, False, False, False, False, False, False, False, False, False, False, False, False, False, False, False, False, False, False, False, False, False, False, False]\n",
      "category\n",
      "0\n",
      "0\n"
     ]
    }
   ],
   "source": [
    "isolet = openml.datasets.get_dataset(300)\n",
    "isolet_x, isolet_y, isolet_cat_ind, isolet_att_names = isolet.get_data(\n",
    "    target = isolet.default_target_attribute, dataset_format=\"dataframe\")\n",
    "print(isolet_att_names, isolet_cat_ind)\n",
    "print(isolet_y.dtype)\n",
    "print(isolet_x.isnull().sum().sum())\n",
    "print(isolet_y.isnull().sum())"
   ]
  },
  {
   "cell_type": "code",
   "execution_count": 26,
   "id": "de91f20a",
   "metadata": {},
   "outputs": [],
   "source": [
    "isolet_x_nor = (isolet_x-isolet_x.min())/(isolet_x.max()-isolet_x.min())\n",
    "isolet_y_num = LabelEncoder().fit_transform(isolet_y)"
   ]
  },
  {
   "cell_type": "markdown",
   "id": "cd45ee1c",
   "metadata": {},
   "source": [
    "### Nursery Dataset"
   ]
  },
  {
   "cell_type": "code",
   "execution_count": 27,
   "id": "59d08633",
   "metadata": {},
   "outputs": [
    {
     "name": "stdout",
     "output_type": "stream",
     "text": [
      "['parents', 'has_nurs', 'form', 'children', 'housing', 'finance', 'social', 'health'] [True, True, True, True, True, True, True, True]\n",
      "category\n",
      "parents     0\n",
      "has_nurs    0\n",
      "form        0\n",
      "children    0\n",
      "housing     0\n",
      "finance     0\n",
      "social      0\n",
      "health      0\n",
      "dtype: int64 0\n"
     ]
    }
   ],
   "source": [
    "nursery = openml.datasets.get_dataset(26)\n",
    "nursery_x, nursery_y, nursery_cat_ind, nursery_att_names = nursery.get_data(\n",
    "    target = nursery.default_target_attribute, dataset_format=\"dataframe\")\n",
    "print(nursery_att_names, nursery_cat_ind)\n",
    "print(nursery_y.dtype)\n",
    "print(nursery_x.isnull().sum(), nursery_y.isnull().sum())"
   ]
  },
  {
   "cell_type": "code",
   "execution_count": 28,
   "id": "24eedf7c",
   "metadata": {},
   "outputs": [],
   "source": [
    "nursery_x_num = nursery_x.copy()"
   ]
  },
  {
   "cell_type": "code",
   "execution_count": 29,
   "id": "6fd6289e",
   "metadata": {},
   "outputs": [],
   "source": [
    "for col in nursery_x.columns:\n",
    "    nursery_x_num [col] = LabelEncoder().fit_transform(nursery_x[col])"
   ]
  },
  {
   "cell_type": "code",
   "execution_count": 30,
   "id": "4ccb6dbe",
   "metadata": {},
   "outputs": [],
   "source": [
    "nursery_y_num = LabelEncoder().fit_transform(nursery_y)"
   ]
  },
  {
   "cell_type": "markdown",
   "id": "3474b1a6",
   "metadata": {},
   "source": [
    "### Gas_drift_different_concentration Dataset"
   ]
  },
  {
   "cell_type": "code",
   "execution_count": 31,
   "id": "57c35d35",
   "metadata": {},
   "outputs": [
    {
     "name": "stdout",
     "output_type": "stream",
     "text": [
      "['V1', 'V2', 'V3', 'V4', 'V5', 'V6', 'V7', 'V8', 'V9', 'V10', 'V11', 'V12', 'V13', 'V14', 'V15', 'V16', 'V17', 'V18', 'V19', 'V20', 'V21', 'V22', 'V23', 'V24', 'V25', 'V26', 'V27', 'V28', 'V29', 'V30', 'V31', 'V32', 'V33', 'V34', 'V35', 'V36', 'V37', 'V38', 'V39', 'V40', 'V41', 'V42', 'V43', 'V44', 'V45', 'V46', 'V47', 'V48', 'V49', 'V50', 'V51', 'V52', 'V53', 'V54', 'V55', 'V56', 'V57', 'V58', 'V59', 'V60', 'V61', 'V62', 'V63', 'V64', 'V65', 'V66', 'V67', 'V68', 'V69', 'V70', 'V71', 'V72', 'V73', 'V74', 'V75', 'V76', 'V77', 'V78', 'V79', 'V80', 'V81', 'V82', 'V83', 'V84', 'V85', 'V86', 'V87', 'V88', 'V89', 'V90', 'V91', 'V92', 'V93', 'V94', 'V95', 'V96', 'V97', 'V98', 'V99', 'V100', 'V101', 'V102', 'V103', 'V104', 'V105', 'V106', 'V107', 'V108', 'V109', 'V110', 'V111', 'V112', 'V113', 'V114', 'V115', 'V116', 'V117', 'V118', 'V119', 'V120', 'V121', 'V122', 'V123', 'V124', 'V125', 'V126', 'V127', 'V128', 'V129'] [False, False, False, False, False, False, False, False, False, False, False, False, False, False, False, False, False, False, False, False, False, False, False, False, False, False, False, False, False, False, False, False, False, False, False, False, False, False, False, False, False, False, False, False, False, False, False, False, False, False, False, False, False, False, False, False, False, False, False, False, False, False, False, False, False, False, False, False, False, False, False, False, False, False, False, False, False, False, False, False, False, False, False, False, False, False, False, False, False, False, False, False, False, False, False, False, False, False, False, False, False, False, False, False, False, False, False, False, False, False, False, False, False, False, False, False, False, False, False, False, False, False, False, False, False, False, False, False, False]\n",
      "category\n",
      "0\n",
      "0\n"
     ]
    }
   ],
   "source": [
    "gd = openml.datasets.get_dataset(1477)\n",
    "gd_x, gd_y, gd_cat_ind, gd_att_names = gd.get_data(\n",
    "    target = gd.default_target_attribute, dataset_format=\"dataframe\")\n",
    "print(gd_att_names, gd_cat_ind)\n",
    "print(gd_y.dtype)\n",
    "print(gd_x.isnull().sum().sum())\n",
    "print(gd_y.isnull().sum())"
   ]
  },
  {
   "cell_type": "code",
   "execution_count": 32,
   "id": "e2b7ff36",
   "metadata": {},
   "outputs": [],
   "source": [
    "gd_x_nor = (gd_x-gd_x.min())/(gd_x.max()-gd_x.min())\n",
    "gd_y_num = LabelEncoder().fit_transform(gd_y)"
   ]
  },
  {
   "cell_type": "markdown",
   "id": "af486659",
   "metadata": {},
   "source": [
    "### MagicTelescope Dataset"
   ]
  },
  {
   "cell_type": "code",
   "execution_count": 33,
   "id": "16a23468",
   "metadata": {},
   "outputs": [
    {
     "name": "stdout",
     "output_type": "stream",
     "text": [
      "['fLength:', 'fWidth:', 'fSize:', 'fConc:', 'fConc1:', 'fAsym:', 'fM3Long:', 'fM3Trans:', 'fAlpha:', 'fDist:'] [False, False, False, False, False, False, False, False, False, False]\n",
      "category\n",
      "fLength:     0\n",
      "fWidth:      0\n",
      "fSize:       0\n",
      "fConc:       0\n",
      "fConc1:      0\n",
      "fAsym:       0\n",
      "fM3Long:     0\n",
      "fM3Trans:    0\n",
      "fAlpha:      0\n",
      "fDist:       0\n",
      "dtype: int64 0\n"
     ]
    }
   ],
   "source": [
    "mts = openml.datasets.get_dataset(1120)\n",
    "mts_x, mts_y, mts_cat_ind, mts_att_names = mts.get_data(\n",
    "    target = mts.default_target_attribute, dataset_format=\"dataframe\")\n",
    "print(mts_att_names, mts_cat_ind)\n",
    "print(mts_y.dtype)\n",
    "print(mts_x.isnull().sum(), mts_y.isnull().sum())"
   ]
  },
  {
   "cell_type": "code",
   "execution_count": 34,
   "id": "9979679e",
   "metadata": {},
   "outputs": [],
   "source": [
    "mts_x_nor = (mts_x-mts_x.min())/(mts_x.max()-mts_x.min())\n",
    "mts_y_num = LabelEncoder().fit_transform(mts_y)"
   ]
  },
  {
   "cell_type": "markdown",
   "id": "176b24dc",
   "metadata": {},
   "source": [
    "### Letter Datatset"
   ]
  },
  {
   "cell_type": "code",
   "execution_count": 35,
   "id": "789e6c04",
   "metadata": {},
   "outputs": [
    {
     "name": "stdout",
     "output_type": "stream",
     "text": [
      "['x-box', 'y-box', 'width', 'high', 'onpix', 'x-bar', 'y-bar', 'x2bar', 'y2bar', 'xybar', 'x2ybr', 'xy2br', 'x-ege', 'xegvy', 'y-ege', 'yegvx'] [False, False, False, False, False, False, False, False, False, False, False, False, False, False, False, False]\n",
      "category\n",
      "x-box    0\n",
      "y-box    0\n",
      "width    0\n",
      "high     0\n",
      "onpix    0\n",
      "x-bar    0\n",
      "y-bar    0\n",
      "x2bar    0\n",
      "y2bar    0\n",
      "xybar    0\n",
      "x2ybr    0\n",
      "xy2br    0\n",
      "x-ege    0\n",
      "xegvy    0\n",
      "y-ege    0\n",
      "yegvx    0\n",
      "dtype: int64 0\n"
     ]
    }
   ],
   "source": [
    "letter = openml.datasets.get_dataset(6)\n",
    "letter_x, letter_y, letter_cat_ind, letter_att_names = letter.get_data(\n",
    "    target = letter.default_target_attribute, dataset_format=\"dataframe\")\n",
    "print(letter_att_names, letter_cat_ind)\n",
    "print(letter_y.dtype)\n",
    "print(letter_x.isnull().sum(), letter_y.isnull().sum())"
   ]
  },
  {
   "cell_type": "code",
   "execution_count": 36,
   "id": "83c2ee9b",
   "metadata": {},
   "outputs": [],
   "source": [
    "letter_x_nor = (letter_x-letter_x.min())/(letter_x.max()-letter_x.min())\n",
    "letter_y_num = LabelEncoder().fit_transform(letter_y)"
   ]
  },
  {
   "cell_type": "markdown",
   "id": "1be43f8b",
   "metadata": {},
   "source": [
    "### Covertype Dataset"
   ]
  },
  {
   "cell_type": "code",
   "execution_count": 37,
   "id": "0e94c62b",
   "metadata": {},
   "outputs": [
    {
     "name": "stdout",
     "output_type": "stream",
     "text": [
      "['Elevation', 'Aspect', 'Slope', 'Horizontal_Distance_To_Hydrology', 'Vertical_Distance_To_Hydrology', 'Horizontal_Distance_To_Roadways', 'Hillshade_9am', 'Hillshade_Noon', 'Hillshade_3pm', 'Horizontal_Distance_To_Fire_Points', 'Wilderness_Area1', 'Wilderness_Area2', 'Wilderness_Area3', 'Wilderness_Area4', 'Soil_Type1', 'Soil_Type2', 'Soil_Type3', 'Soil_Type4', 'Soil_Type5', 'Soil_Type6', 'Soil_Type7', 'Soil_Type8', 'Soil_Type9', 'Soil_Type10', 'Soil_Type11', 'Soil_Type12', 'Soil_Type13', 'Soil_Type14', 'Soil_Type15', 'Soil_Type16', 'Soil_Type17', 'Soil_Type18', 'Soil_Type19', 'Soil_Type20', 'Soil_Type21', 'Soil_Type22', 'Soil_Type23', 'Soil_Type24', 'Soil_Type25', 'Soil_Type26', 'Soil_Type27', 'Soil_Type28', 'Soil_Type29', 'Soil_Type30', 'Soil_Type31', 'Soil_Type32', 'Soil_Type33', 'Soil_Type34', 'Soil_Type35', 'Soil_Type36', 'Soil_Type37', 'Soil_Type38', 'Soil_Type39', 'Soil_Type40'] [False, False, False, False, False, False, False, False, False, False, True, True, True, True, True, True, True, True, True, True, True, True, True, True, True, True, True, True, True, True, True, True, True, True, True, True, True, True, True, True, True, True, True, True, True, True, True, True, True, True, True, True, True, True]\n",
      "category\n",
      "Elevation                             0\n",
      "Aspect                                0\n",
      "Slope                                 0\n",
      "Horizontal_Distance_To_Hydrology      0\n",
      "Vertical_Distance_To_Hydrology        0\n",
      "Horizontal_Distance_To_Roadways       0\n",
      "Hillshade_9am                         0\n",
      "Hillshade_Noon                        0\n",
      "Hillshade_3pm                         0\n",
      "Horizontal_Distance_To_Fire_Points    0\n",
      "Wilderness_Area1                      0\n",
      "Wilderness_Area2                      0\n",
      "Wilderness_Area3                      0\n",
      "Wilderness_Area4                      0\n",
      "Soil_Type1                            0\n",
      "Soil_Type2                            0\n",
      "Soil_Type3                            0\n",
      "Soil_Type4                            0\n",
      "Soil_Type5                            0\n",
      "Soil_Type6                            0\n",
      "Soil_Type7                            0\n",
      "Soil_Type8                            0\n",
      "Soil_Type9                            0\n",
      "Soil_Type10                           0\n",
      "Soil_Type11                           0\n",
      "Soil_Type12                           0\n",
      "Soil_Type13                           0\n",
      "Soil_Type14                           0\n",
      "Soil_Type15                           0\n",
      "Soil_Type16                           0\n",
      "Soil_Type17                           0\n",
      "Soil_Type18                           0\n",
      "Soil_Type19                           0\n",
      "Soil_Type20                           0\n",
      "Soil_Type21                           0\n",
      "Soil_Type22                           0\n",
      "Soil_Type23                           0\n",
      "Soil_Type24                           0\n",
      "Soil_Type25                           0\n",
      "Soil_Type26                           0\n",
      "Soil_Type27                           0\n",
      "Soil_Type28                           0\n",
      "Soil_Type29                           0\n",
      "Soil_Type30                           0\n",
      "Soil_Type31                           0\n",
      "Soil_Type32                           0\n",
      "Soil_Type33                           0\n",
      "Soil_Type34                           0\n",
      "Soil_Type35                           0\n",
      "Soil_Type36                           0\n",
      "Soil_Type37                           0\n",
      "Soil_Type38                           0\n",
      "Soil_Type39                           0\n",
      "Soil_Type40                           0\n",
      "dtype: int64 0\n"
     ]
    }
   ],
   "source": [
    "cover = openml.datasets.get_dataset(150)\n",
    "cover_x, cover_y, cover_cat_ind, cover_att_names = cover.get_data(\n",
    "    target = cover.default_target_attribute, dataset_format=\"dataframe\")\n",
    "print(cover_att_names, cover_cat_ind)\n",
    "print(cover_y.dtype)\n",
    "print(cover_x.isnull().sum(), cover_y.isnull().sum())"
   ]
  },
  {
   "cell_type": "code",
   "execution_count": 38,
   "id": "74b38a41",
   "metadata": {},
   "outputs": [],
   "source": [
    "columns = cover_x.columns\n",
    "col_num = columns [0:10]\n",
    "col_cat = columns [10:]"
   ]
  },
  {
   "cell_type": "code",
   "execution_count": 39,
   "id": "9971c23a",
   "metadata": {},
   "outputs": [],
   "source": [
    "cover_x_num = cover_x[col_cat].copy()"
   ]
  },
  {
   "cell_type": "code",
   "execution_count": 40,
   "id": "ce0e7b25",
   "metadata": {},
   "outputs": [],
   "source": [
    "for col in col_cat :\n",
    "    cover_x_num[col] = LabelEncoder().fit_transform(cover_x[col])"
   ]
  },
  {
   "cell_type": "code",
   "execution_count": 41,
   "id": "666e737d",
   "metadata": {},
   "outputs": [],
   "source": [
    "cover_x_nor = (cover_x[col_num]-cover_x[col_num].min())/(cover_x[col_num].max()-cover_x[col_num].min())\n",
    "cover_x_num_nor = pd.concat([cover_x_nor, cover_x_num], axis=1, join='inner')\n",
    "cover_y_num = LabelEncoder().fit_transform(cover_y)"
   ]
  },
  {
   "cell_type": "code",
   "execution_count": 42,
   "id": "79668d0b",
   "metadata": {},
   "outputs": [
    {
     "data": {
      "text/plain": [
       "{0, 1, 2, 3, 4, 5, 6}"
      ]
     },
     "execution_count": 42,
     "metadata": {},
     "output_type": "execute_result"
    }
   ],
   "source": [
    "set(cover_y_num)"
   ]
  },
  {
   "cell_type": "code",
   "execution_count": null,
   "id": "7d71b030",
   "metadata": {},
   "outputs": [],
   "source": []
  },
  {
   "cell_type": "markdown",
   "id": "69eec3f7",
   "metadata": {},
   "source": [
    "## Clustering Algorithms"
   ]
  },
  {
   "cell_type": "markdown",
   "id": "77c0ad2d",
   "metadata": {},
   "source": [
    "Datasets \n",
    "1. Iris\n",
    "2. Wine\n",
    "3. Haberman\n",
    "4. Glass\n",
    "5. Satellite Image\n",
    "6. Libras Move\n",
    "7. Isolet"
   ]
  },
  {
   "cell_type": "code",
   "execution_count": 43,
   "id": "dee0ec10",
   "metadata": {},
   "outputs": [],
   "source": [
    "Datasets = ['iris', 'wine', 'haberman', 'glass', 'satellite_image', 'libras_move', 'isolet']"
   ]
  },
  {
   "cell_type": "code",
   "execution_count": null,
   "id": "7df1b7c1",
   "metadata": {},
   "outputs": [],
   "source": []
  },
  {
   "cell_type": "markdown",
   "id": "57055207",
   "metadata": {},
   "source": [
    "### KMeans Clustering"
   ]
  },
  {
   "cell_type": "code",
   "execution_count": 44,
   "id": "ddde2bb0",
   "metadata": {},
   "outputs": [],
   "source": [
    "def kmeans (x, y, hp):\n",
    "    start_time = time.time()\n",
    "    kmeans = KMeans(n_clusters = hp[0], n_init = hp[1], max_iter = hp[2])\n",
    "    kmeans.fit(x)\n",
    "    pred = kmeans.predict(x)\n",
    "    f1score = f1_score (y, pred, average = 'weighted')\n",
    "    ars = adjusted_rand_score(y, pred)\n",
    "    sscore = silhouette_score(x, pred, metric='euclidean')\n",
    "    execution_time = time.time() - start_time\n",
    "    return pred, f1score, ars, sscore, execution_time"
   ]
  },
  {
   "cell_type": "markdown",
   "id": "0cd4cc6c",
   "metadata": {},
   "source": [
    "Hyperparameters\n",
    "1. n_clusters\n",
    "2. n_init\n",
    "3. max_iter "
   ]
  },
  {
   "cell_type": "code",
   "execution_count": 45,
   "id": "1964d047",
   "metadata": {},
   "outputs": [],
   "source": [
    "n_clusters1 = [2, 3, 4]\n",
    "n_clusters2 = [5, 6, 7]\n",
    "n_clusters3 = [14, 15, 16]\n",
    "n_clusters4 = [25, 26, 27]\n",
    "\n",
    "n_clusters = [*n_clusters1, *n_clusters2, *n_clusters3, *n_clusters4]\n",
    "n_init = [5, 10, 15]\n",
    "max_iter = [200, 300, 400]\n",
    "\n",
    "hp_kmeans = pd.DataFrame({ 'n_clusters': [], 'n_init': [], 'max_iter': []})\n",
    "hp_kmeans = hp_kmeans.astype(int)"
   ]
  },
  {
   "cell_type": "code",
   "execution_count": 46,
   "id": "134a51e8",
   "metadata": {},
   "outputs": [],
   "source": [
    "for n in n_clusters:\n",
    "    for i in n_init:\n",
    "        for it in max_iter:\n",
    "            hp_kmeans = hp_kmeans.append(\n",
    "                {'n_clusters' : n, 'n_init' : i, 'max_iter' : it}, ignore_index = True\n",
    "            )"
   ]
  },
  {
   "cell_type": "code",
   "execution_count": 47,
   "id": "f92c2b1c",
   "metadata": {},
   "outputs": [
    {
     "data": {
      "text/html": [
       "<div>\n",
       "<style scoped>\n",
       "    .dataframe tbody tr th:only-of-type {\n",
       "        vertical-align: middle;\n",
       "    }\n",
       "\n",
       "    .dataframe tbody tr th {\n",
       "        vertical-align: top;\n",
       "    }\n",
       "\n",
       "    .dataframe thead th {\n",
       "        text-align: right;\n",
       "    }\n",
       "</style>\n",
       "<table border=\"1\" class=\"dataframe\">\n",
       "  <thead>\n",
       "    <tr style=\"text-align: right;\">\n",
       "      <th></th>\n",
       "      <th>n_clusters</th>\n",
       "      <th>n_init</th>\n",
       "      <th>max_iter</th>\n",
       "    </tr>\n",
       "  </thead>\n",
       "  <tbody>\n",
       "    <tr>\n",
       "      <th>0</th>\n",
       "      <td>2</td>\n",
       "      <td>5</td>\n",
       "      <td>200</td>\n",
       "    </tr>\n",
       "    <tr>\n",
       "      <th>1</th>\n",
       "      <td>2</td>\n",
       "      <td>5</td>\n",
       "      <td>300</td>\n",
       "    </tr>\n",
       "    <tr>\n",
       "      <th>2</th>\n",
       "      <td>2</td>\n",
       "      <td>5</td>\n",
       "      <td>400</td>\n",
       "    </tr>\n",
       "    <tr>\n",
       "      <th>3</th>\n",
       "      <td>2</td>\n",
       "      <td>10</td>\n",
       "      <td>200</td>\n",
       "    </tr>\n",
       "    <tr>\n",
       "      <th>4</th>\n",
       "      <td>2</td>\n",
       "      <td>10</td>\n",
       "      <td>300</td>\n",
       "    </tr>\n",
       "    <tr>\n",
       "      <th>...</th>\n",
       "      <td>...</td>\n",
       "      <td>...</td>\n",
       "      <td>...</td>\n",
       "    </tr>\n",
       "    <tr>\n",
       "      <th>103</th>\n",
       "      <td>27</td>\n",
       "      <td>10</td>\n",
       "      <td>300</td>\n",
       "    </tr>\n",
       "    <tr>\n",
       "      <th>104</th>\n",
       "      <td>27</td>\n",
       "      <td>10</td>\n",
       "      <td>400</td>\n",
       "    </tr>\n",
       "    <tr>\n",
       "      <th>105</th>\n",
       "      <td>27</td>\n",
       "      <td>15</td>\n",
       "      <td>200</td>\n",
       "    </tr>\n",
       "    <tr>\n",
       "      <th>106</th>\n",
       "      <td>27</td>\n",
       "      <td>15</td>\n",
       "      <td>300</td>\n",
       "    </tr>\n",
       "    <tr>\n",
       "      <th>107</th>\n",
       "      <td>27</td>\n",
       "      <td>15</td>\n",
       "      <td>400</td>\n",
       "    </tr>\n",
       "  </tbody>\n",
       "</table>\n",
       "<p>108 rows × 3 columns</p>\n",
       "</div>"
      ],
      "text/plain": [
       "     n_clusters  n_init  max_iter\n",
       "0             2       5       200\n",
       "1             2       5       300\n",
       "2             2       5       400\n",
       "3             2      10       200\n",
       "4             2      10       300\n",
       "..          ...     ...       ...\n",
       "103          27      10       300\n",
       "104          27      10       400\n",
       "105          27      15       200\n",
       "106          27      15       300\n",
       "107          27      15       400\n",
       "\n",
       "[108 rows x 3 columns]"
      ]
     },
     "execution_count": 47,
     "metadata": {},
     "output_type": "execute_result"
    }
   ],
   "source": [
    "hp_kmeans"
   ]
  },
  {
   "cell_type": "code",
   "execution_count": 48,
   "id": "4f13a3ab",
   "metadata": {},
   "outputs": [],
   "source": [
    "results_iris_kmeans = Parallel(n_jobs=-1)(delayed(kmeans)(iris_x_nor, iris_y_num, hp_kmeans.iloc[i]) for i in range(0, 27))"
   ]
  },
  {
   "cell_type": "code",
   "execution_count": 51,
   "id": "ec78bca6",
   "metadata": {},
   "outputs": [],
   "source": [
    "results_wine_kmeans = Parallel(n_jobs=-1)(delayed(kmeans)(wine_x_nor, wine_y_num, hp_kmeans.iloc[i]) for i in range(0, 27))"
   ]
  },
  {
   "cell_type": "code",
   "execution_count": 52,
   "id": "82fd22f4",
   "metadata": {},
   "outputs": [],
   "source": [
    "results_hman_kmeans = Parallel(n_jobs=-1)(delayed(kmeans)(hman_x_nor, hman_y_num, hp_kmeans.iloc[i]) for i in range(0, 27))"
   ]
  },
  {
   "cell_type": "code",
   "execution_count": 54,
   "id": "c5c6ba1b",
   "metadata": {},
   "outputs": [],
   "source": [
    "results_glass_kmeans = Parallel(n_jobs=-1)(delayed(kmeans)(glass_x_nor, glass_y_num, hp_kmeans.iloc[i]) for i in range(27, 54))"
   ]
  },
  {
   "cell_type": "code",
   "execution_count": 53,
   "id": "38919f92",
   "metadata": {},
   "outputs": [],
   "source": [
    "results_simg_kmeans = Parallel(n_jobs=-1)(delayed(kmeans)(simg_x_nor, simg_y_num, hp_kmeans.iloc[i]) for i in range(27, 54))"
   ]
  },
  {
   "cell_type": "code",
   "execution_count": 55,
   "id": "53fbced1",
   "metadata": {},
   "outputs": [],
   "source": [
    "results_lb_kmeans = Parallel(n_jobs=-1)(delayed(kmeans)(lm_x_nor, lm_y_num, hp_kmeans.iloc[i]) for i in range(54, 81))"
   ]
  },
  {
   "cell_type": "code",
   "execution_count": 56,
   "id": "14e39f94",
   "metadata": {},
   "outputs": [],
   "source": [
    "results_isolet_kmeans = Parallel(n_jobs=-1)(delayed(kmeans)(isolet_x_nor, isolet_y_num, hp_kmeans.iloc[i]) for i in range(81, 108))"
   ]
  },
  {
   "cell_type": "code",
   "execution_count": 61,
   "id": "853dcf51",
   "metadata": {},
   "outputs": [],
   "source": [
    "kmeans_results = pd.DataFrame({ \n",
    "    'Dataset': [], \n",
    "    '[n_clusters, n_init, max_iter]': [], \n",
    "    'f1 Score': [], \n",
    "    'Adjusted Random Score': [],\n",
    "    'Silhouette Score': [],\n",
    "    'Execution Time': []\n",
    "})"
   ]
  },
  {
   "cell_type": "code",
   "execution_count": 62,
   "id": "3885b2b1",
   "metadata": {},
   "outputs": [],
   "source": [
    "for i in range(0, len(results_iris_kmeans)):\n",
    "    kmeans_results = kmeans_results.append({\n",
    "        'Dataset': Datasets[0], \n",
    "        '[n_clusters, n_init, max_iter]': hp_kmeans.iloc[i].to_list(), \n",
    "        'f1 Score': results_iris_kmeans[i][1], \n",
    "        'Adjusted Random Score': results_iris_kmeans[i][2], \n",
    "        'Silhouette Score': results_iris_kmeans[i][3], \n",
    "        'Execution Time': results_iris_kmeans[i][4]\n",
    "    }, ignore_index = True) \n",
    "    \n",
    "for i in range(0, len(results_wine_kmeans)):\n",
    "    kmeans_results = kmeans_results.append({\n",
    "        'Dataset': Datasets[1], \n",
    "        '[n_clusters, n_init, max_iter]': hp_kmeans.iloc[i].to_list(), \n",
    "        'f1 Score': results_wine_kmeans[i][1], \n",
    "        'Adjusted Random Score': results_wine_kmeans[i][2], \n",
    "        'Silhouette Score': results_wine_kmeans[i][3], \n",
    "        'Execution Time': results_wine_kmeans[i][4]\n",
    "    }, ignore_index = True) \n",
    "    \n",
    "for i in range(0, len(results_hman_kmeans)):\n",
    "    kmeans_results = kmeans_results.append({\n",
    "        'Dataset': Datasets[2], \n",
    "        '[n_clusters, n_init, max_iter]': hp_kmeans.iloc[i].to_list(), \n",
    "        'f1 Score': results_hman_kmeans[i][1], \n",
    "        'Adjusted Random Score': results_hman_kmeans[i][2], \n",
    "        'Silhouette Score': results_hman_kmeans[i][3], \n",
    "        'Execution Time': results_hman_kmeans[i][4]\n",
    "    }, ignore_index = True) \n",
    "    \n",
    "for i in range(0, len(results_glass_kmeans)):\n",
    "    kmeans_results = kmeans_results.append({\n",
    "        'Dataset': Datasets[3], \n",
    "        '[n_clusters, n_init, max_iter]': hp_kmeans.iloc[i+27].to_list(), \n",
    "        'f1 Score': results_glass_kmeans[i][1], \n",
    "        'Adjusted Random Score': results_glass_kmeans[i][2], \n",
    "        'Silhouette Score': results_glass_kmeans[i][3], \n",
    "        'Execution Time': results_glass_kmeans[i][4]\n",
    "    }, ignore_index = True) \n",
    "    \n",
    "for i in range(0, len(results_simg_kmeans)):\n",
    "    kmeans_results = kmeans_results.append({\n",
    "        'Dataset': Datasets[4], \n",
    "        '[n_clusters, n_init, max_iter]': hp_kmeans.iloc[i+27].to_list(), \n",
    "        'f1 Score': results_simg_kmeans[i][1], \n",
    "        'Adjusted Random Score': results_simg_kmeans[i][2], \n",
    "        'Silhouette Score': results_simg_kmeans[i][3], \n",
    "        'Execution Time': results_simg_kmeans[i][4]\n",
    "    }, ignore_index = True) \n",
    "    \n",
    "for i in range(0, len(results_lb_kmeans)):\n",
    "    kmeans_results = kmeans_results.append({\n",
    "        'Dataset': Datasets[5], \n",
    "        '[n_clusters, n_init, max_iter]': hp_kmeans.iloc[i+54].to_list(), \n",
    "        'f1 Score': results_lb_kmeans[i][1], \n",
    "        'Adjusted Random Score': results_lb_kmeans[i][2], \n",
    "        'Silhouette Score': results_lb_kmeans[i][3], \n",
    "        'Execution Time': results_lb_kmeans[i][4]\n",
    "    }, ignore_index = True) \n",
    "    \n",
    "for i in range(0, len(results_isolet_kmeans)):\n",
    "    kmeans_results = kmeans_results.append({\n",
    "        'Dataset': Datasets[6], \n",
    "        '[n_clusters, n_init, max_iter]': hp_kmeans.iloc[i+81].to_list(), \n",
    "        'f1 Score': results_isolet_kmeans[i][1], \n",
    "        'Adjusted Random Score': results_isolet_kmeans[i][2], \n",
    "        'Silhouette Score': results_isolet_kmeans[i][3], \n",
    "        'Execution Time': results_isolet_kmeans[i][4]\n",
    "    }, ignore_index = True) "
   ]
  },
  {
   "cell_type": "code",
   "execution_count": 63,
   "id": "7d978062",
   "metadata": {},
   "outputs": [
    {
     "data": {
      "text/html": [
       "<div>\n",
       "<style scoped>\n",
       "    .dataframe tbody tr th:only-of-type {\n",
       "        vertical-align: middle;\n",
       "    }\n",
       "\n",
       "    .dataframe tbody tr th {\n",
       "        vertical-align: top;\n",
       "    }\n",
       "\n",
       "    .dataframe thead th {\n",
       "        text-align: right;\n",
       "    }\n",
       "</style>\n",
       "<table border=\"1\" class=\"dataframe\">\n",
       "  <thead>\n",
       "    <tr style=\"text-align: right;\">\n",
       "      <th></th>\n",
       "      <th>Dataset</th>\n",
       "      <th>[n_clusters, n_init, max_iter]</th>\n",
       "      <th>f1 Score</th>\n",
       "      <th>Adjusted Random Score</th>\n",
       "      <th>Silhouette Score</th>\n",
       "      <th>Execution Time</th>\n",
       "    </tr>\n",
       "  </thead>\n",
       "  <tbody>\n",
       "    <tr>\n",
       "      <th>0</th>\n",
       "      <td>iris</td>\n",
       "      <td>[2, 5, 200]</td>\n",
       "      <td>0.555556</td>\n",
       "      <td>0.568116</td>\n",
       "      <td>0.629468</td>\n",
       "      <td>0.672048</td>\n",
       "    </tr>\n",
       "    <tr>\n",
       "      <th>1</th>\n",
       "      <td>iris</td>\n",
       "      <td>[2, 5, 300]</td>\n",
       "      <td>0.000000</td>\n",
       "      <td>0.568116</td>\n",
       "      <td>0.629468</td>\n",
       "      <td>0.680048</td>\n",
       "    </tr>\n",
       "    <tr>\n",
       "      <th>2</th>\n",
       "      <td>iris</td>\n",
       "      <td>[2, 5, 400]</td>\n",
       "      <td>0.555556</td>\n",
       "      <td>0.568116</td>\n",
       "      <td>0.629468</td>\n",
       "      <td>0.656048</td>\n",
       "    </tr>\n",
       "    <tr>\n",
       "      <th>3</th>\n",
       "      <td>iris</td>\n",
       "      <td>[2, 10, 200]</td>\n",
       "      <td>0.555556</td>\n",
       "      <td>0.568116</td>\n",
       "      <td>0.629468</td>\n",
       "      <td>0.624044</td>\n",
       "    </tr>\n",
       "    <tr>\n",
       "      <th>4</th>\n",
       "      <td>iris</td>\n",
       "      <td>[2, 10, 300]</td>\n",
       "      <td>0.555556</td>\n",
       "      <td>0.568116</td>\n",
       "      <td>0.629468</td>\n",
       "      <td>0.072005</td>\n",
       "    </tr>\n",
       "    <tr>\n",
       "      <th>...</th>\n",
       "      <td>...</td>\n",
       "      <td>...</td>\n",
       "      <td>...</td>\n",
       "      <td>...</td>\n",
       "      <td>...</td>\n",
       "      <td>...</td>\n",
       "    </tr>\n",
       "    <tr>\n",
       "      <th>184</th>\n",
       "      <td>isolet</td>\n",
       "      <td>[27, 10, 300]</td>\n",
       "      <td>0.033661</td>\n",
       "      <td>0.511896</td>\n",
       "      <td>0.081936</td>\n",
       "      <td>38.898423</td>\n",
       "    </tr>\n",
       "    <tr>\n",
       "      <th>185</th>\n",
       "      <td>isolet</td>\n",
       "      <td>[27, 10, 400]</td>\n",
       "      <td>0.056242</td>\n",
       "      <td>0.522516</td>\n",
       "      <td>0.085995</td>\n",
       "      <td>40.729013</td>\n",
       "    </tr>\n",
       "    <tr>\n",
       "      <th>186</th>\n",
       "      <td>isolet</td>\n",
       "      <td>[27, 15, 200]</td>\n",
       "      <td>0.035449</td>\n",
       "      <td>0.476473</td>\n",
       "      <td>0.084286</td>\n",
       "      <td>46.814413</td>\n",
       "    </tr>\n",
       "    <tr>\n",
       "      <th>187</th>\n",
       "      <td>isolet</td>\n",
       "      <td>[27, 15, 300]</td>\n",
       "      <td>0.089809</td>\n",
       "      <td>0.460954</td>\n",
       "      <td>0.082389</td>\n",
       "      <td>41.518032</td>\n",
       "    </tr>\n",
       "    <tr>\n",
       "      <th>188</th>\n",
       "      <td>isolet</td>\n",
       "      <td>[27, 15, 400]</td>\n",
       "      <td>0.048350</td>\n",
       "      <td>0.489043</td>\n",
       "      <td>0.086476</td>\n",
       "      <td>37.553686</td>\n",
       "    </tr>\n",
       "  </tbody>\n",
       "</table>\n",
       "<p>189 rows × 6 columns</p>\n",
       "</div>"
      ],
      "text/plain": [
       "    Dataset [n_clusters, n_init, max_iter]  f1 Score  Adjusted Random Score  \\\n",
       "0      iris                    [2, 5, 200]  0.555556               0.568116   \n",
       "1      iris                    [2, 5, 300]  0.000000               0.568116   \n",
       "2      iris                    [2, 5, 400]  0.555556               0.568116   \n",
       "3      iris                   [2, 10, 200]  0.555556               0.568116   \n",
       "4      iris                   [2, 10, 300]  0.555556               0.568116   \n",
       "..      ...                            ...       ...                    ...   \n",
       "184  isolet                  [27, 10, 300]  0.033661               0.511896   \n",
       "185  isolet                  [27, 10, 400]  0.056242               0.522516   \n",
       "186  isolet                  [27, 15, 200]  0.035449               0.476473   \n",
       "187  isolet                  [27, 15, 300]  0.089809               0.460954   \n",
       "188  isolet                  [27, 15, 400]  0.048350               0.489043   \n",
       "\n",
       "     Silhouette Score  Execution Time  \n",
       "0            0.629468        0.672048  \n",
       "1            0.629468        0.680048  \n",
       "2            0.629468        0.656048  \n",
       "3            0.629468        0.624044  \n",
       "4            0.629468        0.072005  \n",
       "..                ...             ...  \n",
       "184          0.081936       38.898423  \n",
       "185          0.085995       40.729013  \n",
       "186          0.084286       46.814413  \n",
       "187          0.082389       41.518032  \n",
       "188          0.086476       37.553686  \n",
       "\n",
       "[189 rows x 6 columns]"
      ]
     },
     "execution_count": 63,
     "metadata": {},
     "output_type": "execute_result"
    }
   ],
   "source": [
    "kmeans_results"
   ]
  },
  {
   "cell_type": "code",
   "execution_count": 64,
   "id": "5d5f753c",
   "metadata": {},
   "outputs": [],
   "source": [
    "kmeans_results.to_csv('K-Means_Results.csv')"
   ]
  },
  {
   "cell_type": "code",
   "execution_count": null,
   "id": "f55be4c8",
   "metadata": {},
   "outputs": [],
   "source": []
  },
  {
   "cell_type": "markdown",
   "id": "6d6cfda3",
   "metadata": {},
   "source": [
    "### Agglomerative Clustering"
   ]
  },
  {
   "cell_type": "code",
   "execution_count": 57,
   "id": "0f997bc7",
   "metadata": {},
   "outputs": [],
   "source": [
    "def aggclustering (x, y, hp):\n",
    "    start_time = time.time()\n",
    "    aggcluster = AgglomerativeClustering(n_clusters = hp[0], affinity = hp[1], linkage = hp[2])\n",
    "    pred = aggcluster.fit_predict(x)\n",
    "    f1score = f1_score (y, pred, average = 'weighted')\n",
    "    ars = adjusted_rand_score(y, pred)\n",
    "    sscore = silhouette_score(x, pred, metric='euclidean')\n",
    "    execution_time = time.time() - start_time\n",
    "    return pred, f1score, ars, sscore, execution_time"
   ]
  },
  {
   "cell_type": "markdown",
   "id": "bd19f6ae",
   "metadata": {},
   "source": [
    "Hyperparameters\n",
    "1. n_clusters \n",
    "2. affinity \n",
    "3. linkage "
   ]
  },
  {
   "cell_type": "code",
   "execution_count": 58,
   "id": "1f02537f",
   "metadata": {},
   "outputs": [],
   "source": [
    "n_clusters1 = [2, 3, 4]\n",
    "n_clusters2 = [5, 6, 7]\n",
    "n_clusters3 = [14, 15, 16]\n",
    "n_clusters4 = [25, 26, 27]\n",
    "\n",
    "n_clusters = [*n_clusters1, *n_clusters2, *n_clusters3, *n_clusters4]\n",
    "affinity = ['euclidean', 'manhattan', 'cosine']\n",
    "linkage = ['ward', 'average', 'single']\n",
    "\n",
    "hp_agg = pd.DataFrame({ 'n_clusters': [], 'affinity': [], 'linkage': []})\n",
    "hp_agg = hp_agg.astype(int)"
   ]
  },
  {
   "cell_type": "code",
   "execution_count": 59,
   "id": "6aaf3cf6",
   "metadata": {},
   "outputs": [],
   "source": [
    "for n in n_clusters:\n",
    "    for link in linkage:\n",
    "        if link == 'ward' :\n",
    "            hp_agg = hp_agg.append(\n",
    "                {'n_clusters' : n, 'affinity' : 'euclidean', 'linkage' : link}, ignore_index = True\n",
    "             )\n",
    "        else :\n",
    "            for aff in affinity:\n",
    "                hp_agg = hp_agg.append(\n",
    "                    {'n_clusters' : n, 'affinity' : aff, 'linkage' : link}, ignore_index = True\n",
    "                )    "
   ]
  },
  {
   "cell_type": "code",
   "execution_count": 60,
   "id": "44cf5bd8",
   "metadata": {},
   "outputs": [
    {
     "data": {
      "text/html": [
       "<div>\n",
       "<style scoped>\n",
       "    .dataframe tbody tr th:only-of-type {\n",
       "        vertical-align: middle;\n",
       "    }\n",
       "\n",
       "    .dataframe tbody tr th {\n",
       "        vertical-align: top;\n",
       "    }\n",
       "\n",
       "    .dataframe thead th {\n",
       "        text-align: right;\n",
       "    }\n",
       "</style>\n",
       "<table border=\"1\" class=\"dataframe\">\n",
       "  <thead>\n",
       "    <tr style=\"text-align: right;\">\n",
       "      <th></th>\n",
       "      <th>n_clusters</th>\n",
       "      <th>affinity</th>\n",
       "      <th>linkage</th>\n",
       "    </tr>\n",
       "  </thead>\n",
       "  <tbody>\n",
       "    <tr>\n",
       "      <th>0</th>\n",
       "      <td>2</td>\n",
       "      <td>euclidean</td>\n",
       "      <td>ward</td>\n",
       "    </tr>\n",
       "    <tr>\n",
       "      <th>1</th>\n",
       "      <td>2</td>\n",
       "      <td>euclidean</td>\n",
       "      <td>average</td>\n",
       "    </tr>\n",
       "    <tr>\n",
       "      <th>2</th>\n",
       "      <td>2</td>\n",
       "      <td>manhattan</td>\n",
       "      <td>average</td>\n",
       "    </tr>\n",
       "    <tr>\n",
       "      <th>3</th>\n",
       "      <td>2</td>\n",
       "      <td>cosine</td>\n",
       "      <td>average</td>\n",
       "    </tr>\n",
       "    <tr>\n",
       "      <th>4</th>\n",
       "      <td>2</td>\n",
       "      <td>euclidean</td>\n",
       "      <td>single</td>\n",
       "    </tr>\n",
       "    <tr>\n",
       "      <th>...</th>\n",
       "      <td>...</td>\n",
       "      <td>...</td>\n",
       "      <td>...</td>\n",
       "    </tr>\n",
       "    <tr>\n",
       "      <th>79</th>\n",
       "      <td>27</td>\n",
       "      <td>manhattan</td>\n",
       "      <td>average</td>\n",
       "    </tr>\n",
       "    <tr>\n",
       "      <th>80</th>\n",
       "      <td>27</td>\n",
       "      <td>cosine</td>\n",
       "      <td>average</td>\n",
       "    </tr>\n",
       "    <tr>\n",
       "      <th>81</th>\n",
       "      <td>27</td>\n",
       "      <td>euclidean</td>\n",
       "      <td>single</td>\n",
       "    </tr>\n",
       "    <tr>\n",
       "      <th>82</th>\n",
       "      <td>27</td>\n",
       "      <td>manhattan</td>\n",
       "      <td>single</td>\n",
       "    </tr>\n",
       "    <tr>\n",
       "      <th>83</th>\n",
       "      <td>27</td>\n",
       "      <td>cosine</td>\n",
       "      <td>single</td>\n",
       "    </tr>\n",
       "  </tbody>\n",
       "</table>\n",
       "<p>84 rows × 3 columns</p>\n",
       "</div>"
      ],
      "text/plain": [
       "    n_clusters   affinity  linkage\n",
       "0            2  euclidean     ward\n",
       "1            2  euclidean  average\n",
       "2            2  manhattan  average\n",
       "3            2     cosine  average\n",
       "4            2  euclidean   single\n",
       "..         ...        ...      ...\n",
       "79          27  manhattan  average\n",
       "80          27     cosine  average\n",
       "81          27  euclidean   single\n",
       "82          27  manhattan   single\n",
       "83          27     cosine   single\n",
       "\n",
       "[84 rows x 3 columns]"
      ]
     },
     "execution_count": 60,
     "metadata": {},
     "output_type": "execute_result"
    }
   ],
   "source": [
    "hp_agg"
   ]
  },
  {
   "cell_type": "code",
   "execution_count": 65,
   "id": "7511a17c",
   "metadata": {},
   "outputs": [],
   "source": [
    "results_iris_agg = Parallel(n_jobs=-1)(delayed(aggclustering)(iris_x_nor, iris_y_num, hp_agg.iloc[i]) for i in range (0, 21))"
   ]
  },
  {
   "cell_type": "code",
   "execution_count": 66,
   "id": "df20809b",
   "metadata": {},
   "outputs": [],
   "source": [
    "results_wine_agg = Parallel(n_jobs=-1)(delayed(aggclustering)(wine_x_nor, wine_y_num, hp_agg.iloc[i]) for i in range (0, 21))"
   ]
  },
  {
   "cell_type": "code",
   "execution_count": 67,
   "id": "0e7d5811",
   "metadata": {},
   "outputs": [],
   "source": [
    "results_hman_agg = Parallel(n_jobs=-1)(delayed(aggclustering)(hman_x_nor, hman_y_num, hp_agg.iloc[i]) for i in range (0, 21))"
   ]
  },
  {
   "cell_type": "code",
   "execution_count": 68,
   "id": "f5a18173",
   "metadata": {},
   "outputs": [],
   "source": [
    "results_glass_agg = Parallel(n_jobs=-1)(delayed(aggclustering)(glass_x_nor, glass_y_num, hp_agg.iloc[i]) for i in range (21, 42))"
   ]
  },
  {
   "cell_type": "code",
   "execution_count": 69,
   "id": "eeaf2457",
   "metadata": {},
   "outputs": [],
   "source": [
    "results_simg_agg = Parallel(n_jobs=-1)(delayed(aggclustering)(simg_x_nor, simg_y_num, hp_agg.iloc[i]) for i in range (21, 42))"
   ]
  },
  {
   "cell_type": "code",
   "execution_count": 70,
   "id": "b2d97c3a",
   "metadata": {},
   "outputs": [],
   "source": [
    "results_lm_agg = Parallel(n_jobs=-1)(delayed(aggclustering)(lm_x_nor, lm_y_num, hp_agg.iloc[i]) for i in range (42, 63))"
   ]
  },
  {
   "cell_type": "code",
   "execution_count": 71,
   "id": "0532a4d3",
   "metadata": {},
   "outputs": [],
   "source": [
    "results_isolet_agg = Parallel(n_jobs=-1)(delayed(aggclustering)(isolet_x_nor, isolet_y_num, hp_agg.iloc[i]) for i in range (63, 84))"
   ]
  },
  {
   "cell_type": "code",
   "execution_count": 72,
   "id": "1e71f694",
   "metadata": {},
   "outputs": [],
   "source": [
    "agg_results = pd.DataFrame({ \n",
    "    'Dataset': [], \n",
    "    '[n_clusters, affinity, linkage]': [], \n",
    "    'f1 Score': [], \n",
    "    'Adjusted Random Score': [],\n",
    "    'Silhouette Score': [],\n",
    "    'Execution Time': []\n",
    "})"
   ]
  },
  {
   "cell_type": "code",
   "execution_count": 73,
   "id": "5777bf56",
   "metadata": {},
   "outputs": [],
   "source": [
    "for i in range(0, len(results_iris_agg)):\n",
    "    agg_results = agg_results.append({\n",
    "        'Dataset': Datasets[0], \n",
    "        '[n_clusters, affinity, linkage]': hp_agg.iloc[i].to_list(), \n",
    "        'f1 Score': results_iris_agg[i][1], \n",
    "        'Adjusted Random Score': results_iris_agg[i][2], \n",
    "        'Silhouette Score': results_iris_agg[i][3], \n",
    "        'Execution Time': results_iris_agg[i][4]\n",
    "    }, ignore_index = True) \n",
    "    \n",
    "for i in range(0, len(results_wine_agg)):\n",
    "    agg_results = agg_results.append({\n",
    "        'Dataset': Datasets[1], \n",
    "        '[n_clusters, affinity, linkage]': hp_agg.iloc[i].to_list(), \n",
    "        'f1 Score': results_wine_agg[i][1], \n",
    "        'Adjusted Random Score': results_wine_agg[i][2], \n",
    "        'Silhouette Score': results_wine_agg[i][3], \n",
    "        'Execution Time': results_wine_agg[i][4]\n",
    "    }, ignore_index = True) \n",
    "    \n",
    "for i in range(0, len(results_hman_agg)):\n",
    "    agg_results = agg_results.append({\n",
    "        'Dataset': Datasets[2], \n",
    "        '[n_clusters, affinity, linkage]': hp_agg.iloc[i].to_list(), \n",
    "        'f1 Score': results_hman_agg[i][1], \n",
    "        'Adjusted Random Score': results_hman_agg[i][2], \n",
    "        'Silhouette Score': results_hman_agg[i][3], \n",
    "        'Execution Time': results_hman_agg[i][4]\n",
    "    }, ignore_index = True) \n",
    "    \n",
    "for i in range(0, len(results_glass_agg)):\n",
    "    agg_results = agg_results.append({\n",
    "        'Dataset': Datasets[3], \n",
    "        '[n_clusters, affinity, linkage]': hp_agg.iloc[i+21].to_list(), \n",
    "        'f1 Score': results_glass_agg[i][1], \n",
    "        'Adjusted Random Score': results_glass_agg[i][2], \n",
    "        'Silhouette Score': results_glass_agg[i][3], \n",
    "        'Execution Time': results_glass_agg[i][4]\n",
    "    }, ignore_index = True) \n",
    "    \n",
    "for i in range(0, len(results_simg_agg)):\n",
    "    agg_results = agg_results.append({\n",
    "        'Dataset': Datasets[4], \n",
    "        '[n_clusters, affinity, linkage]': hp_agg.iloc[i+21].to_list(), \n",
    "        'f1 Score': results_simg_agg[i][1], \n",
    "        'Adjusted Random Score': results_simg_agg[i][2], \n",
    "        'Silhouette Score': results_simg_agg[i][3], \n",
    "        'Execution Time': results_simg_agg[i][4]\n",
    "    }, ignore_index = True) \n",
    "    \n",
    "for i in range(0, len(results_lm_agg)):\n",
    "    agg_results = agg_results.append({\n",
    "        'Dataset': Datasets[5], \n",
    "        '[n_clusters, affinity, linkage]': hp_agg.iloc[i+42].to_list(), \n",
    "        'f1 Score': results_lm_agg[i][1], \n",
    "        'Adjusted Random Score': results_lm_agg[i][2], \n",
    "        'Silhouette Score': results_lm_agg[i][3], \n",
    "        'Execution Time': results_lm_agg[i][4]\n",
    "    }, ignore_index = True) \n",
    "    \n",
    "for i in range(0, len(results_isolet_agg)):\n",
    "    agg_results = agg_results.append({\n",
    "        'Dataset': Datasets[6], \n",
    "        '[n_clusters, affinity, linkage]': hp_agg.iloc[i+63].to_list(), \n",
    "        'f1 Score': results_isolet_agg[i][1], \n",
    "        'Adjusted Random Score': results_isolet_agg[i][2], \n",
    "        'Silhouette Score': results_isolet_agg[i][3], \n",
    "        'Execution Time': results_isolet_agg[i][4]\n",
    "    }, ignore_index = True) "
   ]
  },
  {
   "cell_type": "code",
   "execution_count": 76,
   "id": "3ae26750",
   "metadata": {},
   "outputs": [
    {
     "data": {
      "text/html": [
       "<div>\n",
       "<style scoped>\n",
       "    .dataframe tbody tr th:only-of-type {\n",
       "        vertical-align: middle;\n",
       "    }\n",
       "\n",
       "    .dataframe tbody tr th {\n",
       "        vertical-align: top;\n",
       "    }\n",
       "\n",
       "    .dataframe thead th {\n",
       "        text-align: right;\n",
       "    }\n",
       "</style>\n",
       "<table border=\"1\" class=\"dataframe\">\n",
       "  <thead>\n",
       "    <tr style=\"text-align: right;\">\n",
       "      <th></th>\n",
       "      <th>Dataset</th>\n",
       "      <th>[n_clusters, affinity, linkage]</th>\n",
       "      <th>f1 Score</th>\n",
       "      <th>Adjusted Random Score</th>\n",
       "      <th>Silhouette Score</th>\n",
       "      <th>Execution Time</th>\n",
       "    </tr>\n",
       "  </thead>\n",
       "  <tbody>\n",
       "    <tr>\n",
       "      <th>0</th>\n",
       "      <td>iris</td>\n",
       "      <td>[2, euclidean, ward]</td>\n",
       "      <td>0.000000</td>\n",
       "      <td>0.568116</td>\n",
       "      <td>0.629468</td>\n",
       "      <td>0.999876</td>\n",
       "    </tr>\n",
       "    <tr>\n",
       "      <th>1</th>\n",
       "      <td>iris</td>\n",
       "      <td>[2, euclidean, average]</td>\n",
       "      <td>0.000000</td>\n",
       "      <td>0.568116</td>\n",
       "      <td>0.629468</td>\n",
       "      <td>0.997875</td>\n",
       "    </tr>\n",
       "    <tr>\n",
       "      <th>2</th>\n",
       "      <td>iris</td>\n",
       "      <td>[2, manhattan, average]</td>\n",
       "      <td>0.000000</td>\n",
       "      <td>0.568116</td>\n",
       "      <td>0.629468</td>\n",
       "      <td>0.997375</td>\n",
       "    </tr>\n",
       "    <tr>\n",
       "      <th>3</th>\n",
       "      <td>iris</td>\n",
       "      <td>[2, cosine, average]</td>\n",
       "      <td>0.555556</td>\n",
       "      <td>0.568116</td>\n",
       "      <td>0.629468</td>\n",
       "      <td>0.997375</td>\n",
       "    </tr>\n",
       "    <tr>\n",
       "      <th>4</th>\n",
       "      <td>iris</td>\n",
       "      <td>[2, euclidean, single]</td>\n",
       "      <td>0.555556</td>\n",
       "      <td>0.568116</td>\n",
       "      <td>0.629468</td>\n",
       "      <td>0.040002</td>\n",
       "    </tr>\n",
       "    <tr>\n",
       "      <th>...</th>\n",
       "      <td>...</td>\n",
       "      <td>...</td>\n",
       "      <td>...</td>\n",
       "      <td>...</td>\n",
       "      <td>...</td>\n",
       "      <td>...</td>\n",
       "    </tr>\n",
       "    <tr>\n",
       "      <th>142</th>\n",
       "      <td>isolet</td>\n",
       "      <td>[27, manhattan, average]</td>\n",
       "      <td>0.016737</td>\n",
       "      <td>0.235841</td>\n",
       "      <td>0.089274</td>\n",
       "      <td>78.325977</td>\n",
       "    </tr>\n",
       "    <tr>\n",
       "      <th>143</th>\n",
       "      <td>isolet</td>\n",
       "      <td>[27, cosine, average]</td>\n",
       "      <td>0.006171</td>\n",
       "      <td>0.115253</td>\n",
       "      <td>0.021366</td>\n",
       "      <td>77.341166</td>\n",
       "    </tr>\n",
       "    <tr>\n",
       "      <th>144</th>\n",
       "      <td>isolet</td>\n",
       "      <td>[27, euclidean, single]</td>\n",
       "      <td>0.003113</td>\n",
       "      <td>0.000009</td>\n",
       "      <td>-0.055227</td>\n",
       "      <td>69.688902</td>\n",
       "    </tr>\n",
       "    <tr>\n",
       "      <th>145</th>\n",
       "      <td>isolet</td>\n",
       "      <td>[27, manhattan, single]</td>\n",
       "      <td>0.002862</td>\n",
       "      <td>0.000012</td>\n",
       "      <td>-0.043531</td>\n",
       "      <td>67.746482</td>\n",
       "    </tr>\n",
       "    <tr>\n",
       "      <th>146</th>\n",
       "      <td>isolet</td>\n",
       "      <td>[27, cosine, single]</td>\n",
       "      <td>0.003369</td>\n",
       "      <td>0.000008</td>\n",
       "      <td>-0.049369</td>\n",
       "      <td>40.060123</td>\n",
       "    </tr>\n",
       "  </tbody>\n",
       "</table>\n",
       "<p>147 rows × 6 columns</p>\n",
       "</div>"
      ],
      "text/plain": [
       "    Dataset [n_clusters, affinity, linkage]  f1 Score  Adjusted Random Score  \\\n",
       "0      iris            [2, euclidean, ward]  0.000000               0.568116   \n",
       "1      iris         [2, euclidean, average]  0.000000               0.568116   \n",
       "2      iris         [2, manhattan, average]  0.000000               0.568116   \n",
       "3      iris            [2, cosine, average]  0.555556               0.568116   \n",
       "4      iris          [2, euclidean, single]  0.555556               0.568116   \n",
       "..      ...                             ...       ...                    ...   \n",
       "142  isolet        [27, manhattan, average]  0.016737               0.235841   \n",
       "143  isolet           [27, cosine, average]  0.006171               0.115253   \n",
       "144  isolet         [27, euclidean, single]  0.003113               0.000009   \n",
       "145  isolet         [27, manhattan, single]  0.002862               0.000012   \n",
       "146  isolet            [27, cosine, single]  0.003369               0.000008   \n",
       "\n",
       "     Silhouette Score  Execution Time  \n",
       "0            0.629468        0.999876  \n",
       "1            0.629468        0.997875  \n",
       "2            0.629468        0.997375  \n",
       "3            0.629468        0.997375  \n",
       "4            0.629468        0.040002  \n",
       "..                ...             ...  \n",
       "142          0.089274       78.325977  \n",
       "143          0.021366       77.341166  \n",
       "144         -0.055227       69.688902  \n",
       "145         -0.043531       67.746482  \n",
       "146         -0.049369       40.060123  \n",
       "\n",
       "[147 rows x 6 columns]"
      ]
     },
     "execution_count": 76,
     "metadata": {},
     "output_type": "execute_result"
    }
   ],
   "source": [
    "agg_results"
   ]
  },
  {
   "cell_type": "code",
   "execution_count": 77,
   "id": "90dd0f6e",
   "metadata": {},
   "outputs": [],
   "source": [
    "agg_results.to_csv(\"AggClutering_Results.csv\")"
   ]
  },
  {
   "cell_type": "code",
   "execution_count": null,
   "id": "fbd28f46",
   "metadata": {},
   "outputs": [],
   "source": []
  },
  {
   "cell_type": "markdown",
   "id": "8b4c508b",
   "metadata": {},
   "source": [
    "### Self Organizing Maps"
   ]
  },
  {
   "cell_type": "code",
   "execution_count": 102,
   "id": "4e6717c9",
   "metadata": {},
   "outputs": [],
   "source": [
    "def som (x, y, hp):\n",
    "    start_time = time.time()\n",
    "    X = x.to_numpy()\n",
    "    dim = X.shape[1]\n",
    "    som = SOM(m=int(hp[0]), n=int(hp[1]), dim = dim, lr=hp[2], sigma=hp[3], max_iter=int(hp[4]))\n",
    "    pred = som.fit_predict(X)\n",
    "    f1score = f1_score (y, pred, average = 'weighted')\n",
    "    ars = adjusted_rand_score(y, pred)\n",
    "    sscore = []\n",
    "    if len(set(pred)) >= 2:\n",
    "        sscore = silhouette_score(x, pred, metric='euclidean')\n",
    "    execution_time = time.time() - start_time\n",
    "    return pred, f1score, ars, sscore, execution_time"
   ]
  },
  {
   "cell_type": "markdown",
   "id": "395179a3",
   "metadata": {},
   "source": [
    "Hyperparameters\n",
    "1. m \n",
    "2. n\n",
    "3. lr\n",
    "4. sigma \n",
    "5. max_iter"
   ]
  },
  {
   "cell_type": "code",
   "execution_count": 103,
   "id": "39964a16",
   "metadata": {},
   "outputs": [],
   "source": [
    "M1 = [1, 2]\n",
    "N1 = [2, 3, 7]\n",
    "M2 = [3, 4]\n",
    "N2 = [4, 5]\n",
    "M3 = [2, 3]\n",
    "N3 = [9, 13]\n",
    "lr = [0.8, 1.0, 1.2]\n",
    "sigma = [ 0.75, 1.25]\n",
    "max_iter = [100, 200]"
   ]
  },
  {
   "cell_type": "code",
   "execution_count": 104,
   "id": "9eb0657f",
   "metadata": {},
   "outputs": [],
   "source": [
    "hp_som = pd.DataFrame({ 'M': [], 'N': [], 'lr': [], 'sigma': [], 'max_iter': []})"
   ]
  },
  {
   "cell_type": "code",
   "execution_count": 105,
   "id": "fc686369",
   "metadata": {},
   "outputs": [],
   "source": [
    "for m in M1:\n",
    "    for n in N1:\n",
    "        for l in lr:\n",
    "            for sig in sigma:\n",
    "                for it in max_iter:\n",
    "                    hp_som = hp_som.append(\n",
    "                        {'M' : m, 'N' : n, 'lr' : l, 'sigma' : sig, 'max_iter' : it}, ignore_index = True\n",
    "                    )\n",
    "                    \n",
    "for m in M2:\n",
    "    for n in N2:\n",
    "        for l in lr:\n",
    "            for sig in sigma:\n",
    "                for it in max_iter:\n",
    "                    hp_som = hp_som.append(\n",
    "                        {'M' : m, 'N' : n, 'lr' : l, 'sigma' : sig, 'max_iter' : it}, ignore_index = True\n",
    "                    )\n",
    "                    \n",
    "for m in M3:\n",
    "    for n in N3:\n",
    "        for l in lr:\n",
    "            for sig in sigma:\n",
    "                for it in max_iter:\n",
    "                    hp_som = hp_som.append(\n",
    "                        {'M' : m, 'N' : n, 'lr' : l, 'sigma' : sig, 'max_iter' : it}, ignore_index = True\n",
    "                    )"
   ]
  },
  {
   "cell_type": "code",
   "execution_count": 106,
   "id": "0f0ed9af",
   "metadata": {},
   "outputs": [],
   "source": [
    "hp_som = hp_som.astype({\"M\": int, \"N\": int, \"lr\": float, \"sigma\": float, \"max_iter\": int})"
   ]
  },
  {
   "cell_type": "code",
   "execution_count": 107,
   "id": "13cbeac5",
   "metadata": {},
   "outputs": [
    {
     "data": {
      "text/html": [
       "<div>\n",
       "<style scoped>\n",
       "    .dataframe tbody tr th:only-of-type {\n",
       "        vertical-align: middle;\n",
       "    }\n",
       "\n",
       "    .dataframe tbody tr th {\n",
       "        vertical-align: top;\n",
       "    }\n",
       "\n",
       "    .dataframe thead th {\n",
       "        text-align: right;\n",
       "    }\n",
       "</style>\n",
       "<table border=\"1\" class=\"dataframe\">\n",
       "  <thead>\n",
       "    <tr style=\"text-align: right;\">\n",
       "      <th></th>\n",
       "      <th>M</th>\n",
       "      <th>N</th>\n",
       "      <th>lr</th>\n",
       "      <th>sigma</th>\n",
       "      <th>max_iter</th>\n",
       "    </tr>\n",
       "  </thead>\n",
       "  <tbody>\n",
       "    <tr>\n",
       "      <th>0</th>\n",
       "      <td>1</td>\n",
       "      <td>2</td>\n",
       "      <td>0.8</td>\n",
       "      <td>0.75</td>\n",
       "      <td>100</td>\n",
       "    </tr>\n",
       "    <tr>\n",
       "      <th>1</th>\n",
       "      <td>1</td>\n",
       "      <td>2</td>\n",
       "      <td>0.8</td>\n",
       "      <td>0.75</td>\n",
       "      <td>200</td>\n",
       "    </tr>\n",
       "    <tr>\n",
       "      <th>2</th>\n",
       "      <td>1</td>\n",
       "      <td>2</td>\n",
       "      <td>0.8</td>\n",
       "      <td>1.25</td>\n",
       "      <td>100</td>\n",
       "    </tr>\n",
       "    <tr>\n",
       "      <th>3</th>\n",
       "      <td>1</td>\n",
       "      <td>2</td>\n",
       "      <td>0.8</td>\n",
       "      <td>1.25</td>\n",
       "      <td>200</td>\n",
       "    </tr>\n",
       "    <tr>\n",
       "      <th>4</th>\n",
       "      <td>1</td>\n",
       "      <td>2</td>\n",
       "      <td>1.0</td>\n",
       "      <td>0.75</td>\n",
       "      <td>100</td>\n",
       "    </tr>\n",
       "    <tr>\n",
       "      <th>...</th>\n",
       "      <td>...</td>\n",
       "      <td>...</td>\n",
       "      <td>...</td>\n",
       "      <td>...</td>\n",
       "      <td>...</td>\n",
       "    </tr>\n",
       "    <tr>\n",
       "      <th>163</th>\n",
       "      <td>3</td>\n",
       "      <td>13</td>\n",
       "      <td>1.0</td>\n",
       "      <td>1.25</td>\n",
       "      <td>200</td>\n",
       "    </tr>\n",
       "    <tr>\n",
       "      <th>164</th>\n",
       "      <td>3</td>\n",
       "      <td>13</td>\n",
       "      <td>1.2</td>\n",
       "      <td>0.75</td>\n",
       "      <td>100</td>\n",
       "    </tr>\n",
       "    <tr>\n",
       "      <th>165</th>\n",
       "      <td>3</td>\n",
       "      <td>13</td>\n",
       "      <td>1.2</td>\n",
       "      <td>0.75</td>\n",
       "      <td>200</td>\n",
       "    </tr>\n",
       "    <tr>\n",
       "      <th>166</th>\n",
       "      <td>3</td>\n",
       "      <td>13</td>\n",
       "      <td>1.2</td>\n",
       "      <td>1.25</td>\n",
       "      <td>100</td>\n",
       "    </tr>\n",
       "    <tr>\n",
       "      <th>167</th>\n",
       "      <td>3</td>\n",
       "      <td>13</td>\n",
       "      <td>1.2</td>\n",
       "      <td>1.25</td>\n",
       "      <td>200</td>\n",
       "    </tr>\n",
       "  </tbody>\n",
       "</table>\n",
       "<p>168 rows × 5 columns</p>\n",
       "</div>"
      ],
      "text/plain": [
       "     M   N   lr  sigma  max_iter\n",
       "0    1   2  0.8   0.75       100\n",
       "1    1   2  0.8   0.75       200\n",
       "2    1   2  0.8   1.25       100\n",
       "3    1   2  0.8   1.25       200\n",
       "4    1   2  1.0   0.75       100\n",
       "..  ..  ..  ...    ...       ...\n",
       "163  3  13  1.0   1.25       200\n",
       "164  3  13  1.2   0.75       100\n",
       "165  3  13  1.2   0.75       200\n",
       "166  3  13  1.2   1.25       100\n",
       "167  3  13  1.2   1.25       200\n",
       "\n",
       "[168 rows x 5 columns]"
      ]
     },
     "execution_count": 107,
     "metadata": {},
     "output_type": "execute_result"
    }
   ],
   "source": [
    "hp_som"
   ]
  },
  {
   "cell_type": "code",
   "execution_count": 108,
   "id": "9749e287",
   "metadata": {},
   "outputs": [],
   "source": [
    "results_iris_som = Parallel(n_jobs=-1)(delayed(som)(iris_x_nor, iris_y_num, hp_som.iloc[i]) for i in range (0, len(hp_som)))"
   ]
  },
  {
   "cell_type": "code",
   "execution_count": 109,
   "id": "b64840ba",
   "metadata": {},
   "outputs": [],
   "source": [
    "results_wine_som = Parallel(n_jobs=-1)(delayed(som)(wine_x_nor, wine_y_num, hp_som.iloc[i]) for i in range (0, len(hp_som)))"
   ]
  },
  {
   "cell_type": "code",
   "execution_count": 110,
   "id": "95b613ef",
   "metadata": {},
   "outputs": [],
   "source": [
    "results_hman_som = Parallel(n_jobs=-1)(delayed(som)(hman_x_nor, hman_y_num, hp_som.iloc[i]) for i in range (0, len(hp_som)))"
   ]
  },
  {
   "cell_type": "code",
   "execution_count": 111,
   "id": "01455f7b",
   "metadata": {},
   "outputs": [],
   "source": [
    "results_glass_som = Parallel(n_jobs=-1)(delayed(som)(glass_x_nor, glass_y_num, hp_som.iloc[i]) for i in range (0, len(hp_som)))"
   ]
  },
  {
   "cell_type": "code",
   "execution_count": 112,
   "id": "bf7b1816",
   "metadata": {},
   "outputs": [],
   "source": [
    "results_simg_som = Parallel(n_jobs=-1)(delayed(som)(simg_x_nor, simg_y_num, hp_som.iloc[i]) for i in range (0, len(hp_som)))"
   ]
  },
  {
   "cell_type": "code",
   "execution_count": 113,
   "id": "e513ab42",
   "metadata": {},
   "outputs": [],
   "source": [
    "results_lm_som = Parallel(n_jobs=-1)(delayed(som)(lm_x_nor, lm_y_num, hp_som.iloc[i]) for i in range (72, 120))"
   ]
  },
  {
   "cell_type": "code",
   "execution_count": 114,
   "id": "dccdce73",
   "metadata": {},
   "outputs": [],
   "source": [
    "results_isolet_som = Parallel(n_jobs=-1)(delayed(som)(isolet_x_nor, isolet_y_num, hp_som.iloc[i]) for i in range (120, 168))"
   ]
  },
  {
   "cell_type": "code",
   "execution_count": 115,
   "id": "3e3ea74b",
   "metadata": {},
   "outputs": [],
   "source": [
    "som_results = pd.DataFrame({ \n",
    "    'Dataset': [], \n",
    "    '[m, n, lr, sigma, max_iter]': [], \n",
    "    'f1 Score': [], \n",
    "    'Adjusted Random Score': [],\n",
    "    'Silhouette Score': [],\n",
    "    'Execution Time': []\n",
    "})"
   ]
  },
  {
   "cell_type": "code",
   "execution_count": 116,
   "id": "dd4f933c",
   "metadata": {},
   "outputs": [],
   "source": [
    "for i in range(0, len(results_iris_som)):\n",
    "    som_results = som_results.append({\n",
    "        'Dataset': Datasets[0], \n",
    "        '[m, n, lr, sigma, max_iter]': hp_som.iloc[i].to_list(), \n",
    "        'f1 Score': results_iris_som[i][1], \n",
    "        'Adjusted Random Score': results_iris_som[i][2], \n",
    "        'Silhouette Score': results_iris_som[i][3], \n",
    "        'Execution Time': results_iris_som[i][4]\n",
    "    }, ignore_index = True) \n",
    "    \n",
    "for i in range(0, len(results_wine_som)):\n",
    "    som_results = som_results.append({\n",
    "        'Dataset': Datasets[1], \n",
    "        '[m, n, lr, sigma, max_iter]': hp_som.iloc[i].to_list(), \n",
    "        'f1 Score': results_wine_som[i][1], \n",
    "        'Adjusted Random Score': results_wine_som[i][2], \n",
    "        'Silhouette Score': results_wine_som[i][3], \n",
    "        'Execution Time': results_wine_som[i][4]\n",
    "    }, ignore_index = True) \n",
    "    \n",
    "for i in range(0, len(results_hman_som)):\n",
    "    som_results = som_results.append({\n",
    "        'Dataset': Datasets[2], \n",
    "        '[m, n, lr, sigma, max_iter]': hp_som.iloc[i].to_list(), \n",
    "        'f1 Score': results_hman_som[i][1], \n",
    "        'Adjusted Random Score': results_hman_som[i][2], \n",
    "        'Silhouette Score': results_hman_som[i][3], \n",
    "        'Execution Time': results_hman_som[i][4]\n",
    "    }, ignore_index = True) \n",
    "    \n",
    "for i in range(0, len(results_glass_som)):\n",
    "    som_results = som_results.append({\n",
    "        'Dataset': Datasets[3], \n",
    "        '[m, n, lr, sigma, max_iter]': hp_som.iloc[i].to_list(), \n",
    "        'f1 Score': results_glass_som[i][1], \n",
    "        'Adjusted Random Score': results_glass_som[i][2], \n",
    "        'Silhouette Score': results_glass_som[i][3], \n",
    "        'Execution Time': results_glass_som[i][4]\n",
    "    }, ignore_index = True) \n",
    "    \n",
    "for i in range(0, len(results_simg_som)):\n",
    "    som_results = som_results.append({\n",
    "        'Dataset': Datasets[4], \n",
    "        '[m, n, lr, sigma, max_iter]': hp_som.iloc[i].to_list(), \n",
    "        'f1 Score': results_simg_som[i][1], \n",
    "        'Adjusted Random Score': results_simg_som[i][2], \n",
    "        'Silhouette Score': results_simg_som[i][3], \n",
    "        'Execution Time': results_simg_som[i][4]\n",
    "    }, ignore_index = True) \n",
    "    \n",
    "for i in range(0, len(results_lm_som)):\n",
    "    som_results = som_results.append({\n",
    "        'Dataset': Datasets[5], \n",
    "        '[m, n, lr, sigma, max_iter]': hp_som.iloc[i+72].to_list(), \n",
    "        'f1 Score': results_lm_som[i][1], \n",
    "        'Adjusted Random Score': results_lm_som[i][2], \n",
    "        'Silhouette Score': results_lm_som[i][3], \n",
    "        'Execution Time': results_lm_som[i][4]\n",
    "    }, ignore_index = True) \n",
    "    \n",
    "for i in range(0, len(results_isolet_som)):\n",
    "    som_results = som_results.append({\n",
    "        'Dataset': Datasets[6], \n",
    "        '[m, n, lr, sigma, max_iter]': hp_som.iloc[i+120].to_list(), \n",
    "        'f1 Score': results_isolet_som[i][1], \n",
    "        'Adjusted Random Score': results_isolet_som[i][2], \n",
    "        'Silhouette Score': results_isolet_som[i][3], \n",
    "        'Execution Time': results_isolet_som[i][4]\n",
    "    }, ignore_index = True) "
   ]
  },
  {
   "cell_type": "code",
   "execution_count": 117,
   "id": "edceddb3",
   "metadata": {},
   "outputs": [
    {
     "data": {
      "text/html": [
       "<div>\n",
       "<style scoped>\n",
       "    .dataframe tbody tr th:only-of-type {\n",
       "        vertical-align: middle;\n",
       "    }\n",
       "\n",
       "    .dataframe tbody tr th {\n",
       "        vertical-align: top;\n",
       "    }\n",
       "\n",
       "    .dataframe thead th {\n",
       "        text-align: right;\n",
       "    }\n",
       "</style>\n",
       "<table border=\"1\" class=\"dataframe\">\n",
       "  <thead>\n",
       "    <tr style=\"text-align: right;\">\n",
       "      <th></th>\n",
       "      <th>Dataset</th>\n",
       "      <th>[m, n, lr, sigma, max_iter]</th>\n",
       "      <th>f1 Score</th>\n",
       "      <th>Adjusted Random Score</th>\n",
       "      <th>Silhouette Score</th>\n",
       "      <th>Execution Time</th>\n",
       "    </tr>\n",
       "  </thead>\n",
       "  <tbody>\n",
       "    <tr>\n",
       "      <th>0</th>\n",
       "      <td>iris</td>\n",
       "      <td>[1.0, 2.0, 0.8, 0.75, 100.0]</td>\n",
       "      <td>0.019417</td>\n",
       "      <td>0.539922</td>\n",
       "      <td>0.618006</td>\n",
       "      <td>0.297712</td>\n",
       "    </tr>\n",
       "    <tr>\n",
       "      <th>1</th>\n",
       "      <td>iris</td>\n",
       "      <td>[1.0, 2.0, 0.8, 0.75, 200.0]</td>\n",
       "      <td>0.043614</td>\n",
       "      <td>0.507349</td>\n",
       "      <td>0.595077</td>\n",
       "      <td>0.073050</td>\n",
       "    </tr>\n",
       "    <tr>\n",
       "      <th>2</th>\n",
       "      <td>iris</td>\n",
       "      <td>[1.0, 2.0, 0.8, 1.25, 100.0]</td>\n",
       "      <td>0.530558</td>\n",
       "      <td>0.531229</td>\n",
       "      <td>0.614280</td>\n",
       "      <td>0.051536</td>\n",
       "    </tr>\n",
       "    <tr>\n",
       "      <th>3</th>\n",
       "      <td>iris</td>\n",
       "      <td>[1.0, 2.0, 0.8, 1.25, 200.0]</td>\n",
       "      <td>0.379610</td>\n",
       "      <td>0.422774</td>\n",
       "      <td>0.470404</td>\n",
       "      <td>0.064542</td>\n",
       "    </tr>\n",
       "    <tr>\n",
       "      <th>4</th>\n",
       "      <td>iris</td>\n",
       "      <td>[1.0, 2.0, 1.0, 0.75, 100.0]</td>\n",
       "      <td>0.530558</td>\n",
       "      <td>0.531229</td>\n",
       "      <td>0.614280</td>\n",
       "      <td>0.053038</td>\n",
       "    </tr>\n",
       "    <tr>\n",
       "      <th>...</th>\n",
       "      <td>...</td>\n",
       "      <td>...</td>\n",
       "      <td>...</td>\n",
       "      <td>...</td>\n",
       "      <td>...</td>\n",
       "      <td>...</td>\n",
       "    </tr>\n",
       "    <tr>\n",
       "      <th>931</th>\n",
       "      <td>isolet</td>\n",
       "      <td>[3.0, 13.0, 1.0, 1.25, 200.0]</td>\n",
       "      <td>0.022137</td>\n",
       "      <td>0.305506</td>\n",
       "      <td>0.030889</td>\n",
       "      <td>10.541925</td>\n",
       "    </tr>\n",
       "    <tr>\n",
       "      <th>932</th>\n",
       "      <td>isolet</td>\n",
       "      <td>[3.0, 13.0, 1.2, 0.75, 100.0]</td>\n",
       "      <td>0.004821</td>\n",
       "      <td>0.174957</td>\n",
       "      <td>0.067987</td>\n",
       "      <td>9.396218</td>\n",
       "    </tr>\n",
       "    <tr>\n",
       "      <th>933</th>\n",
       "      <td>isolet</td>\n",
       "      <td>[3.0, 13.0, 1.2, 0.75, 200.0]</td>\n",
       "      <td>0.000394</td>\n",
       "      <td>0.285022</td>\n",
       "      <td>0.060865</td>\n",
       "      <td>10.483190</td>\n",
       "    </tr>\n",
       "    <tr>\n",
       "      <th>934</th>\n",
       "      <td>isolet</td>\n",
       "      <td>[3.0, 13.0, 1.2, 1.25, 100.0]</td>\n",
       "      <td>0.027409</td>\n",
       "      <td>0.293582</td>\n",
       "      <td>0.036412</td>\n",
       "      <td>9.583937</td>\n",
       "    </tr>\n",
       "    <tr>\n",
       "      <th>935</th>\n",
       "      <td>isolet</td>\n",
       "      <td>[3.0, 13.0, 1.2, 1.25, 200.0]</td>\n",
       "      <td>0.034970</td>\n",
       "      <td>0.292898</td>\n",
       "      <td>0.030853</td>\n",
       "      <td>9.875429</td>\n",
       "    </tr>\n",
       "  </tbody>\n",
       "</table>\n",
       "<p>936 rows × 6 columns</p>\n",
       "</div>"
      ],
      "text/plain": [
       "    Dataset    [m, n, lr, sigma, max_iter]  f1 Score  Adjusted Random Score  \\\n",
       "0      iris   [1.0, 2.0, 0.8, 0.75, 100.0]  0.019417               0.539922   \n",
       "1      iris   [1.0, 2.0, 0.8, 0.75, 200.0]  0.043614               0.507349   \n",
       "2      iris   [1.0, 2.0, 0.8, 1.25, 100.0]  0.530558               0.531229   \n",
       "3      iris   [1.0, 2.0, 0.8, 1.25, 200.0]  0.379610               0.422774   \n",
       "4      iris   [1.0, 2.0, 1.0, 0.75, 100.0]  0.530558               0.531229   \n",
       "..      ...                            ...       ...                    ...   \n",
       "931  isolet  [3.0, 13.0, 1.0, 1.25, 200.0]  0.022137               0.305506   \n",
       "932  isolet  [3.0, 13.0, 1.2, 0.75, 100.0]  0.004821               0.174957   \n",
       "933  isolet  [3.0, 13.0, 1.2, 0.75, 200.0]  0.000394               0.285022   \n",
       "934  isolet  [3.0, 13.0, 1.2, 1.25, 100.0]  0.027409               0.293582   \n",
       "935  isolet  [3.0, 13.0, 1.2, 1.25, 200.0]  0.034970               0.292898   \n",
       "\n",
       "     Silhouette Score  Execution Time  \n",
       "0            0.618006        0.297712  \n",
       "1            0.595077        0.073050  \n",
       "2            0.614280        0.051536  \n",
       "3            0.470404        0.064542  \n",
       "4            0.614280        0.053038  \n",
       "..                ...             ...  \n",
       "931          0.030889       10.541925  \n",
       "932          0.067987        9.396218  \n",
       "933          0.060865       10.483190  \n",
       "934          0.036412        9.583937  \n",
       "935          0.030853        9.875429  \n",
       "\n",
       "[936 rows x 6 columns]"
      ]
     },
     "execution_count": 117,
     "metadata": {},
     "output_type": "execute_result"
    }
   ],
   "source": [
    "som_results"
   ]
  },
  {
   "cell_type": "code",
   "execution_count": 118,
   "id": "127ac60a",
   "metadata": {},
   "outputs": [],
   "source": [
    "som_results.to_csv(\"SOM_Results.csv\")"
   ]
  },
  {
   "cell_type": "code",
   "execution_count": null,
   "id": "17f5ac63",
   "metadata": {},
   "outputs": [],
   "source": []
  },
  {
   "cell_type": "markdown",
   "id": "f507dc52",
   "metadata": {},
   "source": [
    "### DBSCAN "
   ]
  },
  {
   "cell_type": "code",
   "execution_count": 119,
   "id": "f5479bd2",
   "metadata": {},
   "outputs": [],
   "source": [
    "def dbscan (x, y, hp):\n",
    "    start_time = time.time()\n",
    "    dbs = DBSCAN(eps = hp[0], min_samples = hp[1])\n",
    "    pred = dbs.fit_predict(x)\n",
    "    f1score = f1_score (y, pred, average = 'weighted')\n",
    "    ars = adjusted_rand_score(y, pred)\n",
    "    sscore = []\n",
    "    if len(set(pred)) >= 2:\n",
    "        sscore = silhouette_score(x, pred, metric='euclidean')\n",
    "    execution_time = time.time() - start_time\n",
    "    return pred, f1score, ars,sscore, execution_time"
   ]
  },
  {
   "cell_type": "markdown",
   "id": "85315703",
   "metadata": {},
   "source": [
    "Hyperparameters\n",
    "\n",
    "1. eps\n",
    "2. min_samples "
   ]
  },
  {
   "cell_type": "code",
   "execution_count": 120,
   "id": "70f1fcde",
   "metadata": {},
   "outputs": [],
   "source": [
    "eps = [ 0.3, 0.4, 0.5, 0.6, 0.7 ]\n",
    "min_samples = [2, 3, 4, 5, 6, 7]\n",
    "\n",
    "hp_dbs = pd.DataFrame({'eps': [], 'min_samples': []})\n",
    "hp_dbs.min_samples = hp_dbs.min_samples.astype(int)"
   ]
  },
  {
   "cell_type": "code",
   "execution_count": 121,
   "id": "3a470c60",
   "metadata": {},
   "outputs": [],
   "source": [
    "for ep in eps :\n",
    "    for n in min_samples :\n",
    "        hp_dbs = hp_dbs.append({\n",
    "            'eps' : ep,\n",
    "            'min_samples' : n\n",
    "        }, ignore_index  = True\n",
    "        )"
   ]
  },
  {
   "cell_type": "code",
   "execution_count": 122,
   "id": "67bec5d8",
   "metadata": {},
   "outputs": [
    {
     "data": {
      "text/html": [
       "<div>\n",
       "<style scoped>\n",
       "    .dataframe tbody tr th:only-of-type {\n",
       "        vertical-align: middle;\n",
       "    }\n",
       "\n",
       "    .dataframe tbody tr th {\n",
       "        vertical-align: top;\n",
       "    }\n",
       "\n",
       "    .dataframe thead th {\n",
       "        text-align: right;\n",
       "    }\n",
       "</style>\n",
       "<table border=\"1\" class=\"dataframe\">\n",
       "  <thead>\n",
       "    <tr style=\"text-align: right;\">\n",
       "      <th></th>\n",
       "      <th>eps</th>\n",
       "      <th>min_samples</th>\n",
       "    </tr>\n",
       "  </thead>\n",
       "  <tbody>\n",
       "    <tr>\n",
       "      <th>0</th>\n",
       "      <td>0.3</td>\n",
       "      <td>2.0</td>\n",
       "    </tr>\n",
       "    <tr>\n",
       "      <th>1</th>\n",
       "      <td>0.3</td>\n",
       "      <td>3.0</td>\n",
       "    </tr>\n",
       "    <tr>\n",
       "      <th>2</th>\n",
       "      <td>0.3</td>\n",
       "      <td>4.0</td>\n",
       "    </tr>\n",
       "    <tr>\n",
       "      <th>3</th>\n",
       "      <td>0.3</td>\n",
       "      <td>5.0</td>\n",
       "    </tr>\n",
       "    <tr>\n",
       "      <th>4</th>\n",
       "      <td>0.3</td>\n",
       "      <td>6.0</td>\n",
       "    </tr>\n",
       "    <tr>\n",
       "      <th>5</th>\n",
       "      <td>0.3</td>\n",
       "      <td>7.0</td>\n",
       "    </tr>\n",
       "    <tr>\n",
       "      <th>6</th>\n",
       "      <td>0.4</td>\n",
       "      <td>2.0</td>\n",
       "    </tr>\n",
       "    <tr>\n",
       "      <th>7</th>\n",
       "      <td>0.4</td>\n",
       "      <td>3.0</td>\n",
       "    </tr>\n",
       "    <tr>\n",
       "      <th>8</th>\n",
       "      <td>0.4</td>\n",
       "      <td>4.0</td>\n",
       "    </tr>\n",
       "    <tr>\n",
       "      <th>9</th>\n",
       "      <td>0.4</td>\n",
       "      <td>5.0</td>\n",
       "    </tr>\n",
       "    <tr>\n",
       "      <th>10</th>\n",
       "      <td>0.4</td>\n",
       "      <td>6.0</td>\n",
       "    </tr>\n",
       "    <tr>\n",
       "      <th>11</th>\n",
       "      <td>0.4</td>\n",
       "      <td>7.0</td>\n",
       "    </tr>\n",
       "    <tr>\n",
       "      <th>12</th>\n",
       "      <td>0.5</td>\n",
       "      <td>2.0</td>\n",
       "    </tr>\n",
       "    <tr>\n",
       "      <th>13</th>\n",
       "      <td>0.5</td>\n",
       "      <td>3.0</td>\n",
       "    </tr>\n",
       "    <tr>\n",
       "      <th>14</th>\n",
       "      <td>0.5</td>\n",
       "      <td>4.0</td>\n",
       "    </tr>\n",
       "    <tr>\n",
       "      <th>15</th>\n",
       "      <td>0.5</td>\n",
       "      <td>5.0</td>\n",
       "    </tr>\n",
       "    <tr>\n",
       "      <th>16</th>\n",
       "      <td>0.5</td>\n",
       "      <td>6.0</td>\n",
       "    </tr>\n",
       "    <tr>\n",
       "      <th>17</th>\n",
       "      <td>0.5</td>\n",
       "      <td>7.0</td>\n",
       "    </tr>\n",
       "    <tr>\n",
       "      <th>18</th>\n",
       "      <td>0.6</td>\n",
       "      <td>2.0</td>\n",
       "    </tr>\n",
       "    <tr>\n",
       "      <th>19</th>\n",
       "      <td>0.6</td>\n",
       "      <td>3.0</td>\n",
       "    </tr>\n",
       "    <tr>\n",
       "      <th>20</th>\n",
       "      <td>0.6</td>\n",
       "      <td>4.0</td>\n",
       "    </tr>\n",
       "    <tr>\n",
       "      <th>21</th>\n",
       "      <td>0.6</td>\n",
       "      <td>5.0</td>\n",
       "    </tr>\n",
       "    <tr>\n",
       "      <th>22</th>\n",
       "      <td>0.6</td>\n",
       "      <td>6.0</td>\n",
       "    </tr>\n",
       "    <tr>\n",
       "      <th>23</th>\n",
       "      <td>0.6</td>\n",
       "      <td>7.0</td>\n",
       "    </tr>\n",
       "    <tr>\n",
       "      <th>24</th>\n",
       "      <td>0.7</td>\n",
       "      <td>2.0</td>\n",
       "    </tr>\n",
       "    <tr>\n",
       "      <th>25</th>\n",
       "      <td>0.7</td>\n",
       "      <td>3.0</td>\n",
       "    </tr>\n",
       "    <tr>\n",
       "      <th>26</th>\n",
       "      <td>0.7</td>\n",
       "      <td>4.0</td>\n",
       "    </tr>\n",
       "    <tr>\n",
       "      <th>27</th>\n",
       "      <td>0.7</td>\n",
       "      <td>5.0</td>\n",
       "    </tr>\n",
       "    <tr>\n",
       "      <th>28</th>\n",
       "      <td>0.7</td>\n",
       "      <td>6.0</td>\n",
       "    </tr>\n",
       "    <tr>\n",
       "      <th>29</th>\n",
       "      <td>0.7</td>\n",
       "      <td>7.0</td>\n",
       "    </tr>\n",
       "  </tbody>\n",
       "</table>\n",
       "</div>"
      ],
      "text/plain": [
       "    eps  min_samples\n",
       "0   0.3          2.0\n",
       "1   0.3          3.0\n",
       "2   0.3          4.0\n",
       "3   0.3          5.0\n",
       "4   0.3          6.0\n",
       "5   0.3          7.0\n",
       "6   0.4          2.0\n",
       "7   0.4          3.0\n",
       "8   0.4          4.0\n",
       "9   0.4          5.0\n",
       "10  0.4          6.0\n",
       "11  0.4          7.0\n",
       "12  0.5          2.0\n",
       "13  0.5          3.0\n",
       "14  0.5          4.0\n",
       "15  0.5          5.0\n",
       "16  0.5          6.0\n",
       "17  0.5          7.0\n",
       "18  0.6          2.0\n",
       "19  0.6          3.0\n",
       "20  0.6          4.0\n",
       "21  0.6          5.0\n",
       "22  0.6          6.0\n",
       "23  0.6          7.0\n",
       "24  0.7          2.0\n",
       "25  0.7          3.0\n",
       "26  0.7          4.0\n",
       "27  0.7          5.0\n",
       "28  0.7          6.0\n",
       "29  0.7          7.0"
      ]
     },
     "execution_count": 122,
     "metadata": {},
     "output_type": "execute_result"
    }
   ],
   "source": [
    "hp_dbs"
   ]
  },
  {
   "cell_type": "code",
   "execution_count": 123,
   "id": "514d34ed",
   "metadata": {},
   "outputs": [],
   "source": [
    "results_iris_dbs = Parallel(n_jobs=-1)(delayed(dbscan)(iris_x_nor, iris_y_num, hp_dbs.iloc[i]) for i in range (0, len(hp_dbs)))"
   ]
  },
  {
   "cell_type": "code",
   "execution_count": 124,
   "id": "f8248d01",
   "metadata": {},
   "outputs": [],
   "source": [
    "results_wine_dbs = Parallel(n_jobs=-1)(delayed(dbscan)(wine_x_nor, wine_y_num, hp_dbs.iloc[i]) for i in range (0, len(hp_dbs)))"
   ]
  },
  {
   "cell_type": "code",
   "execution_count": 125,
   "id": "d55a1e8e",
   "metadata": {},
   "outputs": [],
   "source": [
    "results_hman_dbs = Parallel(n_jobs=-1)(delayed(dbscan)(hman_x_nor, hman_y_num, hp_dbs.iloc[i]) for i in range (0, len(hp_dbs)))"
   ]
  },
  {
   "cell_type": "code",
   "execution_count": 126,
   "id": "a55e70b1",
   "metadata": {},
   "outputs": [],
   "source": [
    "results_glass_dbs = Parallel(n_jobs=-1)(delayed(dbscan)(glass_x_nor, glass_y_num, hp_dbs.iloc[i]) for i in range (0, len(hp_dbs)))"
   ]
  },
  {
   "cell_type": "code",
   "execution_count": 127,
   "id": "ac2b1391",
   "metadata": {},
   "outputs": [],
   "source": [
    "results_simg_dbs = Parallel(n_jobs=-1)(delayed(dbscan)(simg_x_nor, simg_y_num, hp_dbs.iloc[i]) for i in range (0, len(hp_dbs)))"
   ]
  },
  {
   "cell_type": "code",
   "execution_count": 128,
   "id": "9df114d0",
   "metadata": {},
   "outputs": [],
   "source": [
    "results_lm_dbs = Parallel(n_jobs=-1)(delayed(dbscan)(lm_x_nor, lm_y_num, hp_dbs.iloc[i]) for i in range (0, len(hp_dbs)))"
   ]
  },
  {
   "cell_type": "code",
   "execution_count": 129,
   "id": "ef76e359",
   "metadata": {},
   "outputs": [],
   "source": [
    "results_isolet_dbs = Parallel(n_jobs=-1)(delayed(dbscan)(isolet_x_nor, isolet_y_num, hp_dbs.iloc[i]) for i in range (0, len(hp_dbs)))"
   ]
  },
  {
   "cell_type": "code",
   "execution_count": 130,
   "id": "e81e1583",
   "metadata": {},
   "outputs": [],
   "source": [
    "dbs_results = pd.DataFrame({ \n",
    "    'Dataset': [], \n",
    "    '[eps, min_samples]': [], \n",
    "    'f1 Score': [], \n",
    "    'Adjusted Random Score': [],\n",
    "    'Silhouette Score': [],\n",
    "    'Execution Time': []\n",
    "})"
   ]
  },
  {
   "cell_type": "code",
   "execution_count": 131,
   "id": "1aaa3ff6",
   "metadata": {},
   "outputs": [],
   "source": [
    "for i in range(0, len(results_iris_dbs)):\n",
    "    dbs_results = dbs_results.append({\n",
    "        'Dataset': Datasets[0], \n",
    "        '[eps, min_samples]': hp_dbs.iloc[i].to_list(), \n",
    "        'f1 Score': results_iris_dbs[i][1], \n",
    "        'Adjusted Random Score': results_iris_dbs[i][2], \n",
    "        'Silhouette Score': results_iris_dbs[i][3], \n",
    "        'Execution Time': results_iris_dbs[i][4]\n",
    "    }, ignore_index = True) \n",
    "    \n",
    "for i in range(0, len(results_wine_dbs)):\n",
    "    dbs_results = dbs_results.append({\n",
    "        'Dataset': Datasets[1], \n",
    "        '[eps, min_samples]': hp_dbs.iloc[i].to_list(), \n",
    "        'f1 Score': results_wine_dbs[i][1], \n",
    "        'Adjusted Random Score': results_wine_dbs[i][2], \n",
    "        'Silhouette Score': results_wine_dbs[i][3], \n",
    "        'Execution Time': results_wine_dbs[i][4]\n",
    "    }, ignore_index = True) \n",
    "    \n",
    "for i in range(0, len(results_hman_dbs)):\n",
    "    dbs_results = dbs_results.append({\n",
    "        'Dataset': Datasets[2], \n",
    "        '[eps, min_samples]': hp_dbs.iloc[i].to_list(), \n",
    "        'f1 Score': results_hman_dbs[i][1], \n",
    "        'Adjusted Random Score': results_hman_dbs[i][2], \n",
    "        'Silhouette Score': results_hman_dbs[i][3], \n",
    "        'Execution Time': results_hman_dbs[i][4]\n",
    "    }, ignore_index = True) \n",
    "    \n",
    "for i in range(0, len(results_glass_dbs)):\n",
    "    dbs_results = dbs_results.append({\n",
    "        'Dataset': Datasets[3], \n",
    "        '[eps, min_samples]': hp_dbs.iloc[i].to_list(), \n",
    "        'f1 Score': results_glass_dbs[i][1], \n",
    "        'Adjusted Random Score': results_glass_dbs[i][2], \n",
    "        'Silhouette Score': results_glass_dbs[i][3], \n",
    "        'Execution Time': results_glass_dbs[i][4]\n",
    "    }, ignore_index = True) \n",
    "    \n",
    "for i in range(0, len(results_simg_dbs)):\n",
    "    dbs_results = dbs_results.append({\n",
    "        'Dataset': Datasets[4], \n",
    "        '[eps, min_samples]': hp_dbs.iloc[i].to_list(), \n",
    "        'f1 Score': results_simg_dbs[i][1], \n",
    "        'Adjusted Random Score': results_simg_dbs[i][2], \n",
    "        'Silhouette Score': results_simg_dbs[i][3], \n",
    "        'Execution Time': results_simg_dbs[i][4]\n",
    "    }, ignore_index = True) \n",
    "    \n",
    "for i in range(0, len(results_lm_dbs)):\n",
    "    dbs_results = dbs_results.append({\n",
    "        'Dataset': Datasets[5], \n",
    "        '[eps, min_samples]': hp_dbs.iloc[i].to_list(), \n",
    "        'f1 Score': results_lm_dbs[i][1], \n",
    "        'Adjusted Random Score': results_lm_dbs[i][2], \n",
    "        'Silhouette Score': results_lm_dbs[i][3], \n",
    "        'Execution Time': results_lm_dbs[i][4]\n",
    "    }, ignore_index = True) \n",
    "    \n",
    "for i in range(0, len(results_isolet_dbs)):\n",
    "    dbs_results = dbs_results.append({\n",
    "        'Dataset': Datasets[6], \n",
    "        '[eps, min_samples]': hp_dbs.iloc[i].to_list(), \n",
    "        'f1 Score': results_isolet_dbs[i][1], \n",
    "        'Adjusted Random Score': results_isolet_dbs[i][2], \n",
    "        'Silhouette Score': results_isolet_dbs[i][3], \n",
    "        'Execution Time': results_isolet_dbs[i][4]\n",
    "    }, ignore_index = True) "
   ]
  },
  {
   "cell_type": "code",
   "execution_count": 132,
   "id": "158c1c9e",
   "metadata": {},
   "outputs": [
    {
     "data": {
      "text/html": [
       "<div>\n",
       "<style scoped>\n",
       "    .dataframe tbody tr th:only-of-type {\n",
       "        vertical-align: middle;\n",
       "    }\n",
       "\n",
       "    .dataframe tbody tr th {\n",
       "        vertical-align: top;\n",
       "    }\n",
       "\n",
       "    .dataframe thead th {\n",
       "        text-align: right;\n",
       "    }\n",
       "</style>\n",
       "<table border=\"1\" class=\"dataframe\">\n",
       "  <thead>\n",
       "    <tr style=\"text-align: right;\">\n",
       "      <th></th>\n",
       "      <th>Dataset</th>\n",
       "      <th>[eps, min_samples]</th>\n",
       "      <th>f1 Score</th>\n",
       "      <th>Adjusted Random Score</th>\n",
       "      <th>Silhouette Score</th>\n",
       "      <th>Execution Time</th>\n",
       "    </tr>\n",
       "  </thead>\n",
       "  <tbody>\n",
       "    <tr>\n",
       "      <th>0</th>\n",
       "      <td>iris</td>\n",
       "      <td>[0.3, 2.0]</td>\n",
       "      <td>0.555556</td>\n",
       "      <td>0.568116</td>\n",
       "      <td>0.629468</td>\n",
       "      <td>0.841547</td>\n",
       "    </tr>\n",
       "    <tr>\n",
       "      <th>1</th>\n",
       "      <td>iris</td>\n",
       "      <td>[0.3, 3.0]</td>\n",
       "      <td>0.555556</td>\n",
       "      <td>0.568116</td>\n",
       "      <td>0.629468</td>\n",
       "      <td>0.018013</td>\n",
       "    </tr>\n",
       "    <tr>\n",
       "      <th>2</th>\n",
       "      <td>iris</td>\n",
       "      <td>[0.3, 4.0]</td>\n",
       "      <td>0.557047</td>\n",
       "      <td>0.565747</td>\n",
       "      <td>0.467662</td>\n",
       "      <td>0.014010</td>\n",
       "    </tr>\n",
       "    <tr>\n",
       "      <th>3</th>\n",
       "      <td>iris</td>\n",
       "      <td>[0.3, 5.0]</td>\n",
       "      <td>0.557047</td>\n",
       "      <td>0.565747</td>\n",
       "      <td>0.467662</td>\n",
       "      <td>0.014007</td>\n",
       "    </tr>\n",
       "    <tr>\n",
       "      <th>4</th>\n",
       "      <td>iris</td>\n",
       "      <td>[0.3, 6.0]</td>\n",
       "      <td>0.557047</td>\n",
       "      <td>0.565747</td>\n",
       "      <td>0.467662</td>\n",
       "      <td>0.020012</td>\n",
       "    </tr>\n",
       "    <tr>\n",
       "      <th>...</th>\n",
       "      <td>...</td>\n",
       "      <td>...</td>\n",
       "      <td>...</td>\n",
       "      <td>...</td>\n",
       "      <td>...</td>\n",
       "      <td>...</td>\n",
       "    </tr>\n",
       "    <tr>\n",
       "      <th>205</th>\n",
       "      <td>isolet</td>\n",
       "      <td>[0.7, 3.0]</td>\n",
       "      <td>0.000000</td>\n",
       "      <td>0.000000</td>\n",
       "      <td>[]</td>\n",
       "      <td>2.892051</td>\n",
       "    </tr>\n",
       "    <tr>\n",
       "      <th>206</th>\n",
       "      <td>isolet</td>\n",
       "      <td>[0.7, 4.0]</td>\n",
       "      <td>0.000000</td>\n",
       "      <td>0.000000</td>\n",
       "      <td>[]</td>\n",
       "      <td>2.934078</td>\n",
       "    </tr>\n",
       "    <tr>\n",
       "      <th>207</th>\n",
       "      <td>isolet</td>\n",
       "      <td>[0.7, 5.0]</td>\n",
       "      <td>0.000000</td>\n",
       "      <td>0.000000</td>\n",
       "      <td>[]</td>\n",
       "      <td>2.852021</td>\n",
       "    </tr>\n",
       "    <tr>\n",
       "      <th>208</th>\n",
       "      <td>isolet</td>\n",
       "      <td>[0.7, 6.0]</td>\n",
       "      <td>0.000000</td>\n",
       "      <td>0.000000</td>\n",
       "      <td>[]</td>\n",
       "      <td>2.829005</td>\n",
       "    </tr>\n",
       "    <tr>\n",
       "      <th>209</th>\n",
       "      <td>isolet</td>\n",
       "      <td>[0.7, 7.0]</td>\n",
       "      <td>0.000000</td>\n",
       "      <td>0.000000</td>\n",
       "      <td>[]</td>\n",
       "      <td>2.998127</td>\n",
       "    </tr>\n",
       "  </tbody>\n",
       "</table>\n",
       "<p>210 rows × 6 columns</p>\n",
       "</div>"
      ],
      "text/plain": [
       "    Dataset [eps, min_samples]  f1 Score  Adjusted Random Score  \\\n",
       "0      iris         [0.3, 2.0]  0.555556               0.568116   \n",
       "1      iris         [0.3, 3.0]  0.555556               0.568116   \n",
       "2      iris         [0.3, 4.0]  0.557047               0.565747   \n",
       "3      iris         [0.3, 5.0]  0.557047               0.565747   \n",
       "4      iris         [0.3, 6.0]  0.557047               0.565747   \n",
       "..      ...                ...       ...                    ...   \n",
       "205  isolet         [0.7, 3.0]  0.000000               0.000000   \n",
       "206  isolet         [0.7, 4.0]  0.000000               0.000000   \n",
       "207  isolet         [0.7, 5.0]  0.000000               0.000000   \n",
       "208  isolet         [0.7, 6.0]  0.000000               0.000000   \n",
       "209  isolet         [0.7, 7.0]  0.000000               0.000000   \n",
       "\n",
       "    Silhouette Score  Execution Time  \n",
       "0           0.629468        0.841547  \n",
       "1           0.629468        0.018013  \n",
       "2           0.467662        0.014010  \n",
       "3           0.467662        0.014007  \n",
       "4           0.467662        0.020012  \n",
       "..               ...             ...  \n",
       "205               []        2.892051  \n",
       "206               []        2.934078  \n",
       "207               []        2.852021  \n",
       "208               []        2.829005  \n",
       "209               []        2.998127  \n",
       "\n",
       "[210 rows x 6 columns]"
      ]
     },
     "execution_count": 132,
     "metadata": {},
     "output_type": "execute_result"
    }
   ],
   "source": [
    "dbs_results"
   ]
  },
  {
   "cell_type": "code",
   "execution_count": 133,
   "id": "89d6dde5",
   "metadata": {},
   "outputs": [],
   "source": [
    "dbs_results.to_csv(\"DBSCAN_Results.csv\")"
   ]
  },
  {
   "cell_type": "code",
   "execution_count": null,
   "id": "a9765183",
   "metadata": {},
   "outputs": [],
   "source": []
  },
  {
   "cell_type": "markdown",
   "id": "afdf9875",
   "metadata": {},
   "source": [
    "### OPTICS Clustering"
   ]
  },
  {
   "cell_type": "code",
   "execution_count": 63,
   "id": "5346f5e5",
   "metadata": {},
   "outputs": [],
   "source": [
    "def optics (x, y, hp):\n",
    "    start_time = time.time()\n",
    "    if hp[2] != 'dbscan' :\n",
    "        opt = OPTICS(min_samples = int(hp[0]), cluster_method = hp[2], p = int(hp[1]) )\n",
    "    else :\n",
    "        opt = OPTICS(min_samples = int(hp[0]), cluster_method = hp[2], p = int(hp[1]), eps = 0.5 )\n",
    "    pred = opt.fit_predict(x)\n",
    "    f1score = f1_score (y, pred, average = 'weighted')\n",
    "    ars = adjusted_rand_score(y, pred)\n",
    "    sscore = []\n",
    "    if len(set(pred)) >= 2:\n",
    "        sscore = silhouette_score(x, pred, metric='euclidean')\n",
    "    execution_time = time.time() - start_time\n",
    "    return pred, f1score, ars,sscore, execution_time"
   ]
  },
  {
   "cell_type": "markdown",
   "id": "5e9bf03b",
   "metadata": {},
   "source": [
    "Hyperparameters\n",
    "\n",
    "1. min_samples\n",
    "2. p\n",
    "3. cluster_method"
   ]
  },
  {
   "cell_type": "code",
   "execution_count": 64,
   "id": "a4d4ba42",
   "metadata": {},
   "outputs": [],
   "source": [
    "min_samples = [3, 4, 5, 6, 7]\n",
    "p = [1, 2]\n",
    "cluster_method = ['xi', 'dbscan']"
   ]
  },
  {
   "cell_type": "code",
   "execution_count": 65,
   "id": "1a902085",
   "metadata": {},
   "outputs": [],
   "source": [
    "hp_opt = pd.DataFrame({'min_samples': [], 'p': [], 'cluster_method': []})\n",
    "\n",
    "for mins in min_samples :\n",
    "    for val in p :\n",
    "        for method in cluster_method :\n",
    "            hp_opt = hp_opt.append({ \n",
    "                'min_samples' : mins,\n",
    "                'p' : val,\n",
    "                'cluster_method' : method\n",
    "                }, ignore_index  = True\n",
    "             )"
   ]
  },
  {
   "cell_type": "code",
   "execution_count": 66,
   "id": "af0eccf3",
   "metadata": {},
   "outputs": [
    {
     "data": {
      "text/html": [
       "<div>\n",
       "<style scoped>\n",
       "    .dataframe tbody tr th:only-of-type {\n",
       "        vertical-align: middle;\n",
       "    }\n",
       "\n",
       "    .dataframe tbody tr th {\n",
       "        vertical-align: top;\n",
       "    }\n",
       "\n",
       "    .dataframe thead th {\n",
       "        text-align: right;\n",
       "    }\n",
       "</style>\n",
       "<table border=\"1\" class=\"dataframe\">\n",
       "  <thead>\n",
       "    <tr style=\"text-align: right;\">\n",
       "      <th></th>\n",
       "      <th>min_samples</th>\n",
       "      <th>p</th>\n",
       "      <th>cluster_method</th>\n",
       "    </tr>\n",
       "  </thead>\n",
       "  <tbody>\n",
       "    <tr>\n",
       "      <th>0</th>\n",
       "      <td>3.0</td>\n",
       "      <td>1.0</td>\n",
       "      <td>xi</td>\n",
       "    </tr>\n",
       "    <tr>\n",
       "      <th>1</th>\n",
       "      <td>3.0</td>\n",
       "      <td>1.0</td>\n",
       "      <td>dbscan</td>\n",
       "    </tr>\n",
       "    <tr>\n",
       "      <th>2</th>\n",
       "      <td>3.0</td>\n",
       "      <td>2.0</td>\n",
       "      <td>xi</td>\n",
       "    </tr>\n",
       "    <tr>\n",
       "      <th>3</th>\n",
       "      <td>3.0</td>\n",
       "      <td>2.0</td>\n",
       "      <td>dbscan</td>\n",
       "    </tr>\n",
       "    <tr>\n",
       "      <th>4</th>\n",
       "      <td>4.0</td>\n",
       "      <td>1.0</td>\n",
       "      <td>xi</td>\n",
       "    </tr>\n",
       "    <tr>\n",
       "      <th>5</th>\n",
       "      <td>4.0</td>\n",
       "      <td>1.0</td>\n",
       "      <td>dbscan</td>\n",
       "    </tr>\n",
       "    <tr>\n",
       "      <th>6</th>\n",
       "      <td>4.0</td>\n",
       "      <td>2.0</td>\n",
       "      <td>xi</td>\n",
       "    </tr>\n",
       "    <tr>\n",
       "      <th>7</th>\n",
       "      <td>4.0</td>\n",
       "      <td>2.0</td>\n",
       "      <td>dbscan</td>\n",
       "    </tr>\n",
       "    <tr>\n",
       "      <th>8</th>\n",
       "      <td>5.0</td>\n",
       "      <td>1.0</td>\n",
       "      <td>xi</td>\n",
       "    </tr>\n",
       "    <tr>\n",
       "      <th>9</th>\n",
       "      <td>5.0</td>\n",
       "      <td>1.0</td>\n",
       "      <td>dbscan</td>\n",
       "    </tr>\n",
       "    <tr>\n",
       "      <th>10</th>\n",
       "      <td>5.0</td>\n",
       "      <td>2.0</td>\n",
       "      <td>xi</td>\n",
       "    </tr>\n",
       "    <tr>\n",
       "      <th>11</th>\n",
       "      <td>5.0</td>\n",
       "      <td>2.0</td>\n",
       "      <td>dbscan</td>\n",
       "    </tr>\n",
       "    <tr>\n",
       "      <th>12</th>\n",
       "      <td>6.0</td>\n",
       "      <td>1.0</td>\n",
       "      <td>xi</td>\n",
       "    </tr>\n",
       "    <tr>\n",
       "      <th>13</th>\n",
       "      <td>6.0</td>\n",
       "      <td>1.0</td>\n",
       "      <td>dbscan</td>\n",
       "    </tr>\n",
       "    <tr>\n",
       "      <th>14</th>\n",
       "      <td>6.0</td>\n",
       "      <td>2.0</td>\n",
       "      <td>xi</td>\n",
       "    </tr>\n",
       "    <tr>\n",
       "      <th>15</th>\n",
       "      <td>6.0</td>\n",
       "      <td>2.0</td>\n",
       "      <td>dbscan</td>\n",
       "    </tr>\n",
       "    <tr>\n",
       "      <th>16</th>\n",
       "      <td>7.0</td>\n",
       "      <td>1.0</td>\n",
       "      <td>xi</td>\n",
       "    </tr>\n",
       "    <tr>\n",
       "      <th>17</th>\n",
       "      <td>7.0</td>\n",
       "      <td>1.0</td>\n",
       "      <td>dbscan</td>\n",
       "    </tr>\n",
       "    <tr>\n",
       "      <th>18</th>\n",
       "      <td>7.0</td>\n",
       "      <td>2.0</td>\n",
       "      <td>xi</td>\n",
       "    </tr>\n",
       "    <tr>\n",
       "      <th>19</th>\n",
       "      <td>7.0</td>\n",
       "      <td>2.0</td>\n",
       "      <td>dbscan</td>\n",
       "    </tr>\n",
       "  </tbody>\n",
       "</table>\n",
       "</div>"
      ],
      "text/plain": [
       "    min_samples    p cluster_method\n",
       "0           3.0  1.0             xi\n",
       "1           3.0  1.0         dbscan\n",
       "2           3.0  2.0             xi\n",
       "3           3.0  2.0         dbscan\n",
       "4           4.0  1.0             xi\n",
       "5           4.0  1.0         dbscan\n",
       "6           4.0  2.0             xi\n",
       "7           4.0  2.0         dbscan\n",
       "8           5.0  1.0             xi\n",
       "9           5.0  1.0         dbscan\n",
       "10          5.0  2.0             xi\n",
       "11          5.0  2.0         dbscan\n",
       "12          6.0  1.0             xi\n",
       "13          6.0  1.0         dbscan\n",
       "14          6.0  2.0             xi\n",
       "15          6.0  2.0         dbscan\n",
       "16          7.0  1.0             xi\n",
       "17          7.0  1.0         dbscan\n",
       "18          7.0  2.0             xi\n",
       "19          7.0  2.0         dbscan"
      ]
     },
     "execution_count": 66,
     "metadata": {},
     "output_type": "execute_result"
    }
   ],
   "source": [
    "hp_opt"
   ]
  },
  {
   "cell_type": "code",
   "execution_count": 67,
   "id": "e9130d02",
   "metadata": {},
   "outputs": [
    {
     "name": "stderr",
     "output_type": "stream",
     "text": [
      "C:\\Anaconda\\lib\\site-packages\\sklearn\\cluster\\_optics.py:803: RuntimeWarning: divide by zero encountered in true_divide\n",
      "  ratio = reachability_plot[:-1] / reachability_plot[1:]\n",
      "C:\\Anaconda\\lib\\site-packages\\sklearn\\cluster\\_optics.py:803: RuntimeWarning: divide by zero encountered in true_divide\n",
      "  ratio = reachability_plot[:-1] / reachability_plot[1:]\n"
     ]
    }
   ],
   "source": [
    "results_iris_opt = Parallel(n_jobs=-1)(delayed(optics)(iris_x_nor, iris_y_num, hp_opt.iloc[i]) for i in range (0, len(hp_opt)))"
   ]
  },
  {
   "cell_type": "code",
   "execution_count": 68,
   "id": "e843f4ee",
   "metadata": {},
   "outputs": [],
   "source": [
    "results_wine_opt = Parallel(n_jobs=-1)(delayed(optics)(wine_x_nor, wine_y_num, hp_opt.iloc[i]) for i in range (0, len(hp_opt)))"
   ]
  },
  {
   "cell_type": "code",
   "execution_count": 69,
   "id": "4a5e3847",
   "metadata": {},
   "outputs": [
    {
     "name": "stderr",
     "output_type": "stream",
     "text": [
      "C:\\Anaconda\\lib\\site-packages\\sklearn\\cluster\\_optics.py:803: RuntimeWarning: divide by zero encountered in true_divide\n",
      "  ratio = reachability_plot[:-1] / reachability_plot[1:]\n",
      "C:\\Anaconda\\lib\\site-packages\\sklearn\\cluster\\_optics.py:803: RuntimeWarning: divide by zero encountered in true_divide\n",
      "  ratio = reachability_plot[:-1] / reachability_plot[1:]\n"
     ]
    }
   ],
   "source": [
    "results_hman_opt = Parallel(n_jobs=-1)(delayed(optics)(hman_x_nor, hman_y_num, hp_opt.iloc[i]) for i in range (0, len(hp_opt)))"
   ]
  },
  {
   "cell_type": "code",
   "execution_count": 70,
   "id": "45a6b1e9",
   "metadata": {},
   "outputs": [],
   "source": [
    "results_glass_opt = Parallel(n_jobs=-1)(delayed(optics)(glass_x_nor, glass_y_num, hp_opt.iloc[i]) for i in range (0, len(hp_opt)))"
   ]
  },
  {
   "cell_type": "code",
   "execution_count": 71,
   "id": "3f7ee10d",
   "metadata": {},
   "outputs": [],
   "source": [
    "results_simg_opt = Parallel(n_jobs=-1)(delayed(optics)(simg_x_nor, simg_y_num, hp_opt.iloc[i]) for i in range (0, len(hp_opt)))"
   ]
  },
  {
   "cell_type": "code",
   "execution_count": 72,
   "id": "20ceeab6",
   "metadata": {},
   "outputs": [],
   "source": [
    "results_lm_opt = Parallel(n_jobs=-1)(delayed(optics)(lm_x_nor, lm_y_num, hp_opt.iloc[i]) for i in range (0, len(hp_opt)))"
   ]
  },
  {
   "cell_type": "code",
   "execution_count": 73,
   "id": "e52ad967",
   "metadata": {},
   "outputs": [],
   "source": [
    "opt_results = pd.DataFrame({ \n",
    "    'Dataset': [], \n",
    "    '[min_samples, p, cluster_method]': [], \n",
    "    'f1 Score': [], \n",
    "    'Adjusted Random Score': [],\n",
    "    'Silhouette Score': [],\n",
    "    'Execution Time': []\n",
    "})"
   ]
  },
  {
   "cell_type": "code",
   "execution_count": 74,
   "id": "354e1408",
   "metadata": {},
   "outputs": [],
   "source": [
    "for i in range(0, len(results_iris_opt)):\n",
    "    opt_results = opt_results.append({\n",
    "        'Dataset': Datasets[0], \n",
    "        '[min_samples, p, cluster_method]': hp_opt.iloc[i].to_list(), \n",
    "        'f1 Score': results_iris_opt[i][1], \n",
    "        'Adjusted Random Score': results_iris_opt[i][2], \n",
    "        'Silhouette Score': results_iris_opt[i][3], \n",
    "        'Execution Time': results_iris_opt[i][4]\n",
    "    }, ignore_index = True) \n",
    "    \n",
    "for i in range(0, len(results_wine_opt)):\n",
    "    opt_results = opt_results.append({\n",
    "        'Dataset': Datasets[1], \n",
    "        '[min_samples, p, cluster_method]': hp_opt.iloc[i].to_list(), \n",
    "        'f1 Score': results_wine_opt[i][1], \n",
    "        'Adjusted Random Score': results_wine_opt[i][2], \n",
    "        'Silhouette Score': results_wine_opt[i][3], \n",
    "        'Execution Time': results_wine_opt[i][4]\n",
    "    }, ignore_index = True) \n",
    "    \n",
    "for i in range(0, len(results_hman_opt)):\n",
    "    opt_results = opt_results.append({\n",
    "        'Dataset': Datasets[2], \n",
    "        '[min_samples, p, cluster_method]': hp_opt.iloc[i].to_list(), \n",
    "        'f1 Score': results_hman_opt[i][1], \n",
    "        'Adjusted Random Score': results_hman_opt[i][2], \n",
    "        'Silhouette Score': results_hman_opt[i][3], \n",
    "        'Execution Time': results_hman_opt[i][4]\n",
    "    }, ignore_index = True) \n",
    "    \n",
    "for i in range(0, len(results_glass_opt)):\n",
    "    opt_results = opt_results.append({\n",
    "        'Dataset': Datasets[3], \n",
    "        '[min_samples, p, cluster_method]': hp_opt.iloc[i].to_list(), \n",
    "        'f1 Score': results_glass_opt[i][1], \n",
    "        'Adjusted Random Score': results_glass_opt[i][2], \n",
    "        'Silhouette Score': results_glass_opt[i][3], \n",
    "        'Execution Time': results_glass_opt[i][4]\n",
    "    }, ignore_index = True) \n",
    "    \n",
    "for i in range(0, len(results_simg_opt)):\n",
    "    opt_results = opt_results.append({\n",
    "        'Dataset': Datasets[4], \n",
    "        '[min_samples, p, cluster_method]': hp_opt.iloc[i].to_list(), \n",
    "        'f1 Score': results_simg_opt[i][1], \n",
    "        'Adjusted Random Score': results_simg_opt[i][2], \n",
    "        'Silhouette Score': results_simg_opt[i][3], \n",
    "        'Execution Time': results_simg_opt[i][4]\n",
    "    }, ignore_index = True) \n",
    "    \n",
    "for i in range(0, len(results_lm_opt)):\n",
    "    opt_results = opt_results.append({\n",
    "        'Dataset': Datasets[5], \n",
    "        '[min_samples, p, cluster_method]': hp_opt.iloc[i].to_list(), \n",
    "        'f1 Score': results_lm_opt[i][1], \n",
    "        'Adjusted Random Score': results_lm_opt[i][2], \n",
    "        'Silhouette Score': results_lm_opt[i][3], \n",
    "        'Execution Time': results_lm_opt[i][4]\n",
    "    }, ignore_index = True) "
   ]
  },
  {
   "cell_type": "code",
   "execution_count": 76,
   "id": "55de11ee",
   "metadata": {},
   "outputs": [
    {
     "data": {
      "text/html": [
       "<div>\n",
       "<style scoped>\n",
       "    .dataframe tbody tr th:only-of-type {\n",
       "        vertical-align: middle;\n",
       "    }\n",
       "\n",
       "    .dataframe tbody tr th {\n",
       "        vertical-align: top;\n",
       "    }\n",
       "\n",
       "    .dataframe thead th {\n",
       "        text-align: right;\n",
       "    }\n",
       "</style>\n",
       "<table border=\"1\" class=\"dataframe\">\n",
       "  <thead>\n",
       "    <tr style=\"text-align: right;\">\n",
       "      <th></th>\n",
       "      <th>Dataset</th>\n",
       "      <th>[min_samples, p, cluster_method]</th>\n",
       "      <th>f1 Score</th>\n",
       "      <th>Adjusted Random Score</th>\n",
       "      <th>Silhouette Score</th>\n",
       "      <th>Execution Time</th>\n",
       "    </tr>\n",
       "  </thead>\n",
       "  <tbody>\n",
       "    <tr>\n",
       "      <th>0</th>\n",
       "      <td>iris</td>\n",
       "      <td>[3.0, 1.0, xi]</td>\n",
       "      <td>0.049383</td>\n",
       "      <td>0.062074</td>\n",
       "      <td>-0.152539</td>\n",
       "      <td>0.578670</td>\n",
       "    </tr>\n",
       "    <tr>\n",
       "      <th>1</th>\n",
       "      <td>iris</td>\n",
       "      <td>[3.0, 1.0, dbscan]</td>\n",
       "      <td>0.555556</td>\n",
       "      <td>0.568116</td>\n",
       "      <td>0.629468</td>\n",
       "      <td>0.563403</td>\n",
       "    </tr>\n",
       "    <tr>\n",
       "      <th>2</th>\n",
       "      <td>iris</td>\n",
       "      <td>[3.0, 2.0, xi]</td>\n",
       "      <td>0.049383</td>\n",
       "      <td>0.032408</td>\n",
       "      <td>-0.1426</td>\n",
       "      <td>0.479338</td>\n",
       "    </tr>\n",
       "    <tr>\n",
       "      <th>3</th>\n",
       "      <td>iris</td>\n",
       "      <td>[3.0, 2.0, dbscan]</td>\n",
       "      <td>0.166667</td>\n",
       "      <td>0.000000</td>\n",
       "      <td>[]</td>\n",
       "      <td>0.518249</td>\n",
       "    </tr>\n",
       "    <tr>\n",
       "      <th>4</th>\n",
       "      <td>iris</td>\n",
       "      <td>[4.0, 1.0, xi]</td>\n",
       "      <td>0.137566</td>\n",
       "      <td>0.052315</td>\n",
       "      <td>-0.250188</td>\n",
       "      <td>0.448156</td>\n",
       "    </tr>\n",
       "    <tr>\n",
       "      <th>...</th>\n",
       "      <td>...</td>\n",
       "      <td>...</td>\n",
       "      <td>...</td>\n",
       "      <td>...</td>\n",
       "      <td>...</td>\n",
       "      <td>...</td>\n",
       "    </tr>\n",
       "    <tr>\n",
       "      <th>115</th>\n",
       "      <td>libras_move</td>\n",
       "      <td>[6.0, 2.0, dbscan]</td>\n",
       "      <td>0.000000</td>\n",
       "      <td>0.003767</td>\n",
       "      <td>-0.293193</td>\n",
       "      <td>1.126745</td>\n",
       "    </tr>\n",
       "    <tr>\n",
       "      <th>116</th>\n",
       "      <td>libras_move</td>\n",
       "      <td>[7.0, 1.0, xi]</td>\n",
       "      <td>0.007143</td>\n",
       "      <td>0.058434</td>\n",
       "      <td>-0.040706</td>\n",
       "      <td>1.132308</td>\n",
       "    </tr>\n",
       "    <tr>\n",
       "      <th>117</th>\n",
       "      <td>libras_move</td>\n",
       "      <td>[7.0, 1.0, dbscan]</td>\n",
       "      <td>0.000000</td>\n",
       "      <td>0.000000</td>\n",
       "      <td>[]</td>\n",
       "      <td>1.212583</td>\n",
       "    </tr>\n",
       "    <tr>\n",
       "      <th>118</th>\n",
       "      <td>libras_move</td>\n",
       "      <td>[7.0, 2.0, xi]</td>\n",
       "      <td>0.013333</td>\n",
       "      <td>0.024293</td>\n",
       "      <td>-0.153615</td>\n",
       "      <td>1.472482</td>\n",
       "    </tr>\n",
       "    <tr>\n",
       "      <th>119</th>\n",
       "      <td>libras_move</td>\n",
       "      <td>[7.0, 2.0, dbscan]</td>\n",
       "      <td>0.000000</td>\n",
       "      <td>0.000958</td>\n",
       "      <td>-0.140405</td>\n",
       "      <td>1.515077</td>\n",
       "    </tr>\n",
       "  </tbody>\n",
       "</table>\n",
       "<p>120 rows × 6 columns</p>\n",
       "</div>"
      ],
      "text/plain": [
       "         Dataset [min_samples, p, cluster_method]  f1 Score  \\\n",
       "0           iris                   [3.0, 1.0, xi]  0.049383   \n",
       "1           iris               [3.0, 1.0, dbscan]  0.555556   \n",
       "2           iris                   [3.0, 2.0, xi]  0.049383   \n",
       "3           iris               [3.0, 2.0, dbscan]  0.166667   \n",
       "4           iris                   [4.0, 1.0, xi]  0.137566   \n",
       "..           ...                              ...       ...   \n",
       "115  libras_move               [6.0, 2.0, dbscan]  0.000000   \n",
       "116  libras_move                   [7.0, 1.0, xi]  0.007143   \n",
       "117  libras_move               [7.0, 1.0, dbscan]  0.000000   \n",
       "118  libras_move                   [7.0, 2.0, xi]  0.013333   \n",
       "119  libras_move               [7.0, 2.0, dbscan]  0.000000   \n",
       "\n",
       "     Adjusted Random Score Silhouette Score  Execution Time  \n",
       "0                 0.062074        -0.152539        0.578670  \n",
       "1                 0.568116         0.629468        0.563403  \n",
       "2                 0.032408          -0.1426        0.479338  \n",
       "3                 0.000000               []        0.518249  \n",
       "4                 0.052315        -0.250188        0.448156  \n",
       "..                     ...              ...             ...  \n",
       "115               0.003767        -0.293193        1.126745  \n",
       "116               0.058434        -0.040706        1.132308  \n",
       "117               0.000000               []        1.212583  \n",
       "118               0.024293        -0.153615        1.472482  \n",
       "119               0.000958        -0.140405        1.515077  \n",
       "\n",
       "[120 rows x 6 columns]"
      ]
     },
     "execution_count": 76,
     "metadata": {},
     "output_type": "execute_result"
    }
   ],
   "source": [
    "opt_results"
   ]
  },
  {
   "cell_type": "code",
   "execution_count": 77,
   "id": "b86db4e6",
   "metadata": {},
   "outputs": [],
   "source": [
    "opt_results.to_csv(\"OPTICS_Results.csv\")"
   ]
  },
  {
   "cell_type": "code",
   "execution_count": null,
   "id": "3baef264",
   "metadata": {},
   "outputs": [],
   "source": []
  }
 ],
 "metadata": {
  "kernelspec": {
   "display_name": "Python 3",
   "language": "python",
   "name": "python3"
  },
  "language_info": {
   "codemirror_mode": {
    "name": "ipython",
    "version": 3
   },
   "file_extension": ".py",
   "mimetype": "text/x-python",
   "name": "python",
   "nbconvert_exporter": "python",
   "pygments_lexer": "ipython3",
   "version": "3.8.8"
  }
 },
 "nbformat": 4,
 "nbformat_minor": 5
}
